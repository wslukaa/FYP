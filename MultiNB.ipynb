{
 "cells": [
  {
   "cell_type": "code",
   "execution_count": 23,
   "metadata": {},
   "outputs": [
    {
     "name": "stdout",
     "output_type": "stream",
     "text": [
      "[0, 0, 0, 0, 0, 0, 0, 0, 0, 0, 0, 0, 0, 0, 0, 0, 0, 0, 0, 0, 0, 0, 0, 0, 1, 1, 1, 1, 1, 1, 1, 1, 1, 1, 1, 1, 1, 1, 1, 1, 1, 1, 1, 1, 0, 0, 0, 0, 0, 0, 0, 0, 0, 0, 0, 0, 0, 0, 0, 0, 0, 1, 1, 1, 1, 1, 1, 0, 0, 0, 0, 0, 0, 0, 0, 1, 1, 1, 1, 1, 0, 0, 0]\n",
      "24    1\n",
      "25    0\n",
      "26    0\n",
      "27    0\n",
      "28    1\n",
      "29    1\n",
      "30    1\n",
      "31    1\n",
      "32    1\n",
      "33    1\n",
      "34    0\n",
      "35    0\n",
      "36    0\n",
      "37    0\n",
      "38    0\n",
      "39    0\n",
      "40    0\n",
      "41    0\n",
      "42    0\n",
      "43    0\n",
      "44    0\n",
      "45    0\n",
      "46    0\n",
      "47    0\n",
      "48    0\n",
      "49    0\n",
      "50    0\n",
      "51    0\n",
      "52    0\n",
      "53    0\n",
      "54    0\n",
      "55    0\n",
      "56    0\n",
      "57    0\n",
      "58    0\n",
      "59    0\n",
      "60    0\n",
      "61    0\n",
      "62    0\n",
      "63    0\n",
      "64    0\n",
      "65    0\n",
      "66    0\n",
      "67    0\n",
      "68    0\n",
      "69    0\n",
      "70    0\n",
      "71    0\n",
      "72    0\n",
      "73    0\n",
      "74    0\n",
      "75    0\n",
      "76    0\n",
      "77    0\n",
      "78    0\n",
      "79    0\n",
      "80    0\n",
      "81    0\n",
      "82    0\n",
      "Name: predict(t), dtype: int64\n",
      "Train Accuracy ::  0.916666666667\n",
      "Test Accuracy ::  0.593220338983\n"
     ]
    },
    {
     "name": "stderr",
     "output_type": "stream",
     "text": [
      "/Users/lukwingsan/anaconda3/lib/python3.6/site-packages/sklearn/model_selection/_split.py:2026: FutureWarning: From version 0.21, test_size will always complement train_size unless both are specified.\n",
      "  FutureWarning)\n"
     ]
    },
    {
     "data": {
      "image/png": "[encoded data removed]",
      "text/plain": [
       "<matplotlib.figure.Figure at 0x12b8e7f28>"
      ]
     },
     "metadata": {},
     "output_type": "display_data"
    }
   ],
   "source": [
    "#Import Library of Gaussian Naive Bayes model\n",
    "from sklearn.naive_bayes import MultinomialNB\n",
    "import numpy as np\n",
    "import pandas as pd\n",
    "import matplotlib.patches as patches\n",
    "import matplotlib.transforms as transforms\n",
    "import matplotlib.pyplot as plt\n",
    "from sklearn.model_selection import train_test_split\n",
    "#Create a Gaussian Classifier\n",
    "\n",
    "def dataset_headers(dataset):\n",
    "    \"\"\"\n",
    "    To get the dataset header names\n",
    "    :param dataset: loaded dataset into pandas DataFrame\n",
    "    :return: list of header names\n",
    "    \"\"\"\n",
    "    return list(dataset.columns.values)\n",
    "def model_accuracy(trained_model, features, targets):\n",
    "    \"\"\"\n",
    "    Get the accuracy score of the model\n",
    "    :param trained_model:\n",
    "    :param features:\n",
    "    :param targets:\n",
    "    :return:\n",
    "    \"\"\"\n",
    "    accuracy_score = trained_model.score(features, targets)\n",
    "    return accuracy_score\n",
    "model = MultinomialNB()\n",
    "dataset = pd.read_csv(\"WorkbookFYP2.csv\")\n",
    "headers = dataset_headers(dataset)\n",
    "\n",
    "training_features = [  'trend(t-1)','trend(t-2)','value(t-1)','value(t-2)']\n",
    "target = 'predict(t)'\n",
    "train_x, test_x, train_y, test_y = train_test_split(dataset[training_features], dataset[target], train_size=0.3,shuffle=False)\n",
    "\n",
    "# Train the model using the training sets \n",
    "model.fit(train_x, train_y)\n",
    "k=[]\n",
    "x=[0]\n",
    "\n",
    "#Predict Output \n",
    "predicted= model.predict(test_x)\n",
    "train_accuracy = model_accuracy(model, train_x, train_y)\n",
    "test_accuracy = model_accuracy(model, test_x, test_y)\n",
    "for i in range(0,(len(train_y)+len(test_y)- len(predicted))):\n",
    "    k.extend(x)\n",
    "    \n",
    "k.extend(predicted)              \n",
    "print (k)\n",
    "print (test_y)\n",
    "print (\"Train Accuracy :: \", train_accuracy)\n",
    "print (\"Test Accuracy :: \", test_accuracy)\n",
    "\n",
    "plt.plot(k) # plotting by columns\n",
    "#ax2 = plt.subplot(212)\n",
    "#ax2.set_xlim(33,len(predicted))\n",
    "plt.plot(test_y)\n",
    "#Import Library of Gaussian Naive Bayes model\n",
    "plt.show()"
   ]
  },
  {
   "cell_type": "code",
   "execution_count": null,
   "metadata": {
    "collapsed": true
   },
   "outputs": [],
   "source": []
  }
 ],
 "metadata": {
  "kernelspec": {
   "display_name": "Python 3",
   "language": "python",
   "name": "python3"
  },
  "language_info": {
   "codemirror_mode": {
    "name": "ipython",
    "version": 3
   },
   "file_extension": ".py",
   "mimetype": "text/x-python",
   "name": "python",
   "nbconvert_exporter": "python",
   "pygments_lexer": "ipython3",
   "version": "3.6.1"
  }
 },
 "nbformat": 4,
 "nbformat_minor": 2
}
