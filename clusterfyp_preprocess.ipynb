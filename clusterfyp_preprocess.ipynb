{
 "cells": [
  {
   "cell_type": "code",
   "execution_count": 11,
   "metadata": {},
   "outputs": [
    {
     "name": "stdout",
     "output_type": "stream",
     "text": [
      "{'japan': 'tokyojapanjapon', 'tokyo': 'tokyojapanjapon', '황민현': '황민현glfunnyvideos', 'daily': 'dailythankslatest', 'thanks': 'thankslatest황민현', 'latest': 'thankslatest황민현', 'nsfw': 'chattipnsfw', 'dating': 'hookupdatingsex', 'adultwebcamdate': 'homemadensfwadultwebcamdate', 'women': 'womenenergydts', 'energy': 'timeenergygiveaway', 'dts': 'womenenergydts', 'remembers': 'rememberslisulsee88p0yjtajjgp', 'lisulsee88': 'lipslisulsee88p0yjtajjgp', 'p0yjtajjgp': 'lipslisulsee88p0yjtajjgp', 'boss': 'bossolivierfarwellfindom', 'olivierfarwell': 'bossolivierfarwellfindom', 'findom': 'paypigfindom황민현', 'homedecor': 'homedecorinteriordesigngiveaway', 'interiordesign': 'interiordesignsoapinterior', 'giveaway': 'theskimm황민현giveaway', 'bisexual': 'silverfollowmebisexual', 'followme': 'silverfollowmebisexual', 'cams': 'camswebcammodelsexyfreecamshow', 'theskimm': 'theskimm황민현giveaway', 'tweet': 'tweet황민현gl', 'gl': '황민현glfunnyvideos', 'newrelease': 'newreleasedaddysusaninlaguna', 'susaninlaguna': 'newreleasedaddysusaninlaguna', 'kindleunlimited': 'romancekindlekindleunlimited', 'youtubers': 'youtubermerchyoutubersproduct', 'youtuber': 'youtuberyoutubermerchukproduct', 'product': 'youtubermerchyoutubersproduct', 'est': '민현황민현est', 'nu': '황민현estnu', 'feel': 'feelquotes_crownlove', 'quotes_crown': 'feelquotes_crownlove', 'love': 'feelquotes_crownlove', 'floridarussian': 'floridarussian황민현frontend', 'frontend': 'mental황민현frontend', 'funnyvideos': '황민현glfunnyvideos', 'knowyourvideo': 'knowyourvideort황민현', 'rt': 'knowyourvideort황민현', 'カナやん': '王様のブランチhappytimeカナやん', '新テーマソング': 'カナやん新テーマソング王様のブランチ', '王様のブランチ': '王様のブランチhappytimeカナやん', 'music': 'beatsmusichiphop', 'beats': 'beatsmusichiphop', 'hiphop': 'beatsmusichiphop', 'transexual': 'transexualshemale황민현', 'shemale': 'transexualshemale황민현', 'travel': 'traveljourneyofkoydaily', 'copreps': 'footballcoprepsrockyprep', 'rockyprep': 'footballcoprepsrockyprep', 'fri': 'fribeatfootball', 'innovation': 'healthcaredigitalhealthinnovation', 'extremely': 'extremelydailythanks', 'working': 'founderworkingmoneymaker', 'founder': 'founderworkingmoneymaker', 'charlesmilander': 'magazinemoneymakercharlesmilander', 'scenery': 'scenerybeautywishing', 'beauty': 'scenerybeautywishing', 'wishing': 'scenerybeautywishing', 'porn': 'xxxsexporn', 'xxx': 'xxxsexporn', 'sex': 'xxxsexporn', '방탄소년단': '방탄소년단jiminbts', 'bts': '방탄소년단jiminbts', 'jimin': '방탄소년단jiminbts', 'sistersex': 'mysexsistersexfreeborn', 'freeborn': 'mysexsistersexfreeborn', 'tricked': 'mysex3sometricked', '랩몬': '랩몬남준rm', '남준': '랩몬남준rm', 'rm': '랩몬남준rm', 'ai': 'aiazilinonscloud', 'azilinons': 'aiazilinonscloud', 'cloud': 'cloud황민현gl', 'goddess': 'goddessglfunnyvideos', 'property': 'property황민현gl', 'lifestlye': 'lifestlyemakemoneygl', 'makemoney': 'lifestlyemakemoneygl', 'fashion': 'fashion황민현gl', 'bestseller': 'aibestsellerhotwantcolin', 'hotwantcolin': 'aibestsellerhotwantcolin', '73dqsbmeaw': 'bestsellerhotwantcolin73dqsbmeaw', 'edmfamily': 'edmfamilyradioxoliveverifynerdjunkie', 'radioxolive': 'edmfamilyradioxoliveverifynerdjunkie', 'nerdjunkie': 'edmnerdjunkietwtr', 'hookup': 'hookupdatingsex', 'motivation': 'motivation황민현frontend', 'inspiration': 'motivationinspiration황민현', 'paypig': 'paypigfindom황민현', 'femdom': 'joshuapaulshowfindomfemdom', 'suspense': 'actresssuspenserickydstahl', 'actress': 'actresssuspenserickydstahl', 'rickydstahl': 'rickydstahl황민현giveaway', 'exo': 'cuteexosignup', 'livecam': 'exolivecamsignup', 'signup': 'cuteexosignup', 'online_machine': 'online_machine6figureslifestlye', '6figures': 'online_machine6figureslifestlye', 'beat': 'beattrap황민현', 'football': 'fribeatfootball', 'waisttrainer': 'slimandshapeupbodyshaperwaisttrainer', 'slimandshapeup': 'slimandshapeupbodyshaperwaisttrainer', 'bodyshaper': 'slimandshapeupbodyshaperwaisttrainer', 'interior': 'decorationsoapinterior', 'soap': 'decorationsoapinterior', 'decoration': 'decorationsoapinterior', 'horny': 'etsypussyhorny', 'cock': 'pussyasscock', 'pussy': 'pussyasscock', 'decor': 'decorcozygarden', 'scapamor88': 'diyscapamor88cozy', 'oe5bliaxsl': 'decorscapamor88oe5bliaxsl', 'summercamp': 'summercampstemgamification', 'stem': 'summercampstemgamification', 'gamification': 'mhealthstartupgamification', 'shoeporn': 'shoesshoeporninstafashion', 'heels': 'instafashionheelsinstagramers', 'instafashion': 'instafashionheelsinstagramers', 'yamasho': '100degreesyamashobtawgofmij', '100degrees': '100degreesyamashobtawgofmij', 'btawgofmij': '100degreesyamashobtawgofmij', 'quotescrown': 'quotescrownfeellove', 'cryptocurrency': 'cryptobitcoincryptocurrency', 'btc': 'summercampstembtc', 'crypto': 'cryptobitcoincryptocurrency', 'joshuapaulshow': 'joshuapaulshowuxui', 'tranny': 'trannytstransexual', 'tgirl': 'shemaletrannytgirl', '김남준': '김남준rapmonster랩몬스터', 'rapmonster': '랩몬스터rapmonsterbts_twt', '랩몬스터': '랩몬스터rapmonsterbts_twt', 'ass': 'pussyasscock', 'anal': 'cumanalass', 'hiring': 'hiring황민현gl', 'apply': 'jobsapplysearchamerican', 'asmsg': 'asmsgiartgmg_leadership', 'mg_leadership': 'asmsgiartgmg_leadership', 'bynr': 'bynrmg_leadershipasmsg', 'lately': 'latelyjonlairdmusicnddwute6cv', 'jonlairdmusic': 'latelyjonlairdmusicnddwute6cv', 'nddwute6cv': 'latelyjonlairdmusicnddwute6cv', 'beer': 'beer황민현heathrow', 'heathrow': 'npheathrowfunnyvideos', 'farwell': 'farwelloliviertime', 'olivier': 'farwelloliviertime', 'painting': 'classicseagullspainting황민현', 'art': 'inktoberarthealthcare', 'solar': 'solarenergythanks', 'niku477021262': 'motivationphotographyniku477021262', 'waterfalls': 'niku477021262waterfallsnature', 'nature': 'niku477021262waterfallsnature', 'fiverr': 'fiverrfilteringgoddess', 'rjrosel44': 'rjrosel44gigfootfetish', 'gig': 'rjrosel44gigfootfetish', 'mental': 'mental황민현frontend', 'dxb': 'dxbemiratesahlanemarat', 'emirates': 'dxbemiratesahlanemarat', 'ahlanemarat': 'dxbemiratesahlanemarat', 'cam': 'sexycamadultwebcamdate', 'tip': 'chattipnsfw', 'lt': 'lt황민현gl', 'sexy': 'rjrosel44gigsexy', 'funny': 'funnyvideosknowyourvideo', 'dominicvonbern': 'urbanartdominicvonbernntiiagjmaf', 'urbanart': 'urbanartdominicvonbernntiiagjmaf', 'ntiiagjmaf': 'urbanartdominicvonbernntiiagjmaf', '강다니엘': '강다니엘워너원wannaone', '워너원': '강다니엘워너원wannaone', 'wannaone': '강다니엘워너원wannaone', 'w4qb07jols': 'w4qb07jolsmendy황민현', 'mendy': 'w4qb07jolsmendy황민현', 'mysex': 'mysexsistersexfreeborn', 'penis': 'cockpeniscum', 'cum': 'cockpeniscum', 'website': 'uxuiwebsite', 'zkaccess': 'realestatezkaccessbiometrics', 'realestate': 'realestatezkaccessbiometrics', 'sustainability': 'sustainabilitygabriel_greltegl', 'gabriel_grelte': 'sustainabilitygabriel_greltegl', 'snapchat': 'snapchatinktober2017day', 'autumn': 'autumn황민현heathrow', 'foottease': 'dirtysolesmariefetishfoottease', 'mariefetish': 'mariefetishdirtysolesukfinestfeet', 'footworship': 'ukfinestfeetmariefetishfootworship', 'jewelry': 'jewelryjewelryfinessebirthstone', 'birthstone': 'jewelryjewelryfinessebirthstone', 'jewelryfinesse': 'jewelryjewelryfinessebirthstone', 'amwriting': 'amwritingfictionasmsg', 'fiction': 'amwritingfictionasmsg', 'petregister': 'petregisterplscat', 'pls': 'petregisterplscat', 'cat': 'petregisterplscat', 'bigdata': 'beskotwaibigdata', 'slimming': 'slimmingslimandshapeupwaisttrainer', 'ux': 'uxuiseo', 'ui': 'uxuiseo', 'share': 'sharesupportsmallstreamers황민현', 'supportsmallstreamers': 'twitchlivesupportsmallstreamers', 'homemade': 'homemadetrufflesswine', 'coop': 'coop황민현giveaway', 'social': 'socialmarketingtirolith', 'quote': 'inspirationquotedeveloper', 'comics': 'comicscomicbooksfx_digital', 'friedman_phil': 'friedman_philbebeesearchamerican', 'bebee': 'friedman_philbebeesearchamerican', 'mix': 'mixgamificationschoolgamed', 'schoolgamed': 'mixgamificationschoolgamed', 'uk': 'ukdigital황민현', 'airport': 'airportheathrowheathrowshuttle', 'fitness': 'fitnesshealthups', 'health': 'fitnesshealthups', 'ups': 'fitnesshealthups', 'thaarjustice': 'rtتقاريرthaarjustice', 'تقارير': 'rtتقاريرthaarjustice', 'nowplaying': 'nowplayingvandofficialthechewb', 'vandofficial': 'nhqwawktvsvandofficialthechewb', 'thechewb': 'nhqwawktvsvandofficialthechewb', 'chat': 'chattipnsfw', 'beskotw': 'beskotwaibigdata', 'profit': 'profitoctclassicseagulls', 'trump': 'magarealdonaldtrumptrump', 'realdonaldtrump': 'magarealdonaldtrumptrump', 'maga': 'magarealdonaldtrumptrump', 'startgrowthhack': 'progrowthhackerstartgrowthhackgrowth', 'growth': 'progrowthhackerstartgrowthhackgrowth', 'digital': 'ukdigital황민현', '진영': 'mufc진영ivyclub', 'daydreampoint': '진영daydreampoint갓세븐', '갓세븐': '갓세븐7for7youare', 'silver': 'silverfollowmebisexual', 'startup': 'mhealthstartupgamification', 'india': 'startupindiaextra', 'extra': 'startupindiaextra', 'digitalhealth': 'digitalhealthhealthcaremhealth', 'healthcare': 'inktoberarthealthcare', 'mhealth': 'mhealthstartupgamification', 'digitalmarketing': 'defstar5seodigitalmarketing', 'fx_digital': 'comicscomicbooksfx_digital', 'akterdhaka94': 'digitalmarketingfx_digitalakterdhaka94', 'style': 'fashionvivantstylesstyle', 'photooftheday': 'stylephotoofthedaymaxvaluestore', 'maxvaluestore': 'stylephotoofthedaymaxvaluestore', 'inktober': 'inktoberarthealthcare', 'inktober2017': 'snapchatinktober2017day', 'day': 'snapchatinktober2017day', 'ethereum': 'ethereumaigangico', 'aigang': 'ethereumaigangico', 'ico': 'ethereumaigangico', '마마자니': 'mama_피드백_요구마마야p드백해마마자니', '마마야p드백해': 'mama_피드백_요구마마야p드백해마마자니', '마마니피드백아이하니': '맑맑_핅듥밹_욝굵구요_백드피_amam마마니피드백아이하니', 'edm': 'edmnerdjunkietwtr', 'twtr': 'edmnerdjunkietwtr', 'lips': 'lipslisulsee88p0yjtajjgp', '민현': '민현황민현est', 'freebets': 'sportsbetsfreebets', 'sportsbetting': 'sportssportsbettingbets', 'bets': 'sportsbetsfreebets', 'socialmedia': 'socialmediasocialfx_digital', '유겸': '王嘉爾유겸영재', '王嘉爾': '王嘉爾유겸영재', 'defstar5': 'defstar5seodigitalmarketing', 'seo': 'defstar5seodigitalmarketing', 'growthhacking': 'defstar5seogrowthhacking', 'friends': 'developer황민현friends', 'favorite': 'gamegamingfavorite', 'jaytechserv_jay': 'friendsfavoritejaytechserv_jay', 'classicseagulls': 'classicseagullspainting황민현', 'hair': 'photoofthedayhairnails', 'indiedev': 'indiedevgamedev황민현', 'gamedev': 'indiedevgamedev황민현', 'etsy': 'handmadeetsystevieacciaio', 'eshopoly': 'eshopolyyoutubersyoutubermerch', 'success': 'entrepreneursuccessenthusiast', 'entrepreneur': 'entrepreneursuccessenthusiast', 'trending': '불타오르네stand_by_btstrending', 'mufc': 'mufcheathrowfunny', 'ivyclub': 'mufc진영ivyclub', 'food': 'foodrealhistorygifbible', 'app': 'theskimmiphoneapp', '09': '09iphoneginalimp', 'ginalimp': '09iphoneginalimp', 'cloudgallery1': 'urbanartcloudgallery1ntiiagjmaf', 'streetart': 'artstreetartiut2fdsmmu', 'iut2fdsmmu': 'artstreetartiut2fdsmmu', 'architecture': 'architecturedesignfrontend', 'photography': 'photographywishingunivercentrix', 'tits': 'titsboobssex', 'boobs': 'boobspussyhot', 'javascript': 'javascriptgoogletricks19황민현', 'comicbooks': 'comicscomicbooksfx_digital', 'ebay': 'ebayretrogamingvgdealssega', 'sports': 'sportsbetsfreebets', 'youtubermerch': 'youtubermerchyoutubersproduct', 'cozy': 'designcozygarden', 'garden': 'designcozygarden', 'bible': 'foodrealhistorygifbible', 'realhistorygif': 'foodrealhistorygifbible', '마이크드랍': '마이크드랍bts_antfiltering', 'bts_ant': '마이크드랍bts_antfiltering', 'filtering': '마이크드랍bts_antfiltering', 'yasss': 'yasss황민현heathrow', '10': 'googletricks1910황민현', 'bitcoin': 'cryptobitcoincryptocurrency', 'academic': 'academicacademicjobsresearch', 'academicjobs': 'academicacademicjobsresearch', 'research': 'academicacademicjobsresearch', 'gt': 'daddynewreleasegt', 'ukfinestfeet': 'mariefetishdirtysolesukfinestfeet', 'marketing': 'socialmarketingtirolith', 'searchamerican': 'searchamericansistersexmysex', 'game': 'gamegamingfavorite', 'gaming': 'gamegamingfavorite', 'webcammodel': 'camswebcammodelsexyfreecamshow', 'time': 'farwelloliviertime', 'trap': 'beattrap황민현', '영재': '王嘉爾유겸영재', 'shoes': 'shoesshoeporninstafashion', 'instagramers': 'instafashionheelsinstagramers', 'mac': 'maciphone황민현', 'iphone': 'maciphone황민현', 'helpinglostpets': 'helpinglostpetsdog황민현', 'domestic': 'helpinglostpetshairdomestic', '3some': 'mysex3sometricked', 'dog': 'dogpetregistermissing', 'missing': 'dogpetregistermissing', 'workfromhome': 'workfromhomeselftirolith', 'romance': 'romancekindlekindleunlimited', 'kindle': 'romancekindlekindleunlimited', 'heathrowshuttle': 'airportheathrowheathrowshuttle', 'googletricks19': 'googletricks19황민현gl', 'progrowthhacker': 'progrowthhackerstartgrowthhackgrowth', 'diy': 'diygardencozy', 'lavalordz': 'lavalordzrapmusicgirlstwerking', 'rapmusic': 'lavalordzrapmusicgirlstwerking', 'girlstwerking': 'lavalordzrapmusicgirlstwerking', 'ad': 'buymarketesupportad', 'design': 'designcozygarden', 'shortlist': 'shortlist황민현giveaway', 'wellbeing': 'wellbeingselftirolith', 'self': 'wellbeingselftirolith', 'tirolith': 'wellbeingselftirolith', 'footfetish': 'footfetishfootworshipdirtysoles', 'keiimai1': 'funnykeiimai1japon', 'japon': 'tokyojapanjapon', 'gcosmopolita': 'instafashionheelsgcosmopolita', 'cute': 'cuteexosignup', 'nhqwawktvs': 'nhqwawktvsvandofficialthechewb', 'eth': 'btcethcryptocurrency', '아뭬멜뮵튭튭': 'ᄋr미mel믂아미_멜뮤튭_아이하니아뭬멜뮵튭튭', 'ᄋr미mel믂': 'ᄋr미mel믂아미_멜뮤튭_아이하니아뭬멜뮵튭튭', 'enthusiast': 'entrepreneursuccessenthusiast', 'happytime': '王様のブランチhappytimeカナやん', '西野カナ': '西野カナ王様のブランチhappytime', '4g': '4gsatelitewwan', 'satelite': '4gsatelitewwan', '3g': '3g4gwlan', 'career': 'careerjobs황민현', 'jobs': 'jobsapplysearchamerican', 'hot': 'hotdaddykindleunlimited', 'vivantstyles': 'fashionvivantstylesstyle', 'ts': 'trannytstransexual', 'verifynerdjunkie': 'edmfamilyradioxoliveverifynerdjunkie', 'bookiebashing': 'freebetsbookiebashingbets', 'developer': 'developer황민현friends', 'np': 'npheathrowfunnyvideos', 'univercentrix': 'photographywishingunivercentrix', 'retrogaming': 'ebayretrogamingvgdealssega', 'vgdealssega': 'ebayretrogamingvgdealssega', '구요_백드피_amam': '맑맑_핅듥밹_욝굵구요_백드피_amam마마니피드백아이하니', 'blockchain': 'blockchainazilinonscloud', 'jokes': 'jokeshumorfunnyvideos', 'humor': 'jokeshumorfunnyvideos', 'mlm': 'mlmhomebusiness황민현', 'homebusiness': 'mlmhomebusiness황민현', 'air': 'maxnikeair', 'nike': 'maxnikeair', 'max': 'maxnikeair', 'videos': 'funnyvideosknowyourvideo', 'sport': 'sport황민현giveaway', 'freebet': 'freebetbingopoker', 'poker': 'bingoracingpoker', 'k1zjtsv3es': 'freebetpokerk1zjtsv3es', 'tcot': 'tcotlibertyfreedom', 'liberty': 'tcotlibertyfreedom', 'freedom': 'lifestlyefreedom6figures', 'cybersecurity': 'cybersecuritysecurityinfosec', 'security': 'cybersecuritysecurityinfosec', 'infosec': 'cybersecuritysecurityinfosec', '7for7': '갓세븐7for7youare', 'youare': '갓새븐got7officialyouare', 'dirtysoles': 'mariefetishdirtysolesukfinestfeet', 'calindab1': 'fantasycalindab1황민현', 'fantasy': 'fantasycalindab1황민현', 'journeyofkoy': 'traveljourneyofkoydaily', 'kikipawg': 'kikipawgkikistylish', 'kiki': 'kikipawgkikistylish', 'stylish': 'kikipawgkikistylish', 'spottinghawk': 'indiaextraspottinghawk', 'needfriend': 'needfriendlover12', 'lover': 'needfriendlover12', '12': 'needfriendlover12', 'oct': 'profitoctclassicseagulls', 'epiconetsy': 'craftshoutepiconetsystevieacciaio', 'craftshout': 'craftshoutepiconetsystevieacciaio', 'marijuana': 'marijuanaweedhemp', 'cannabis': 'marijuanacannabisweed', 'weed': 'marijuanaweedhemp', 'uae': 'uaeemiratesahlanemarat', 'iartg': 'asmsgiartgmg_leadership', 'youtubermerchuk': 'floridarussianyoutubermerchyoutubermerchuk', 'sexyfreecamshow': 'camswebcammodelsexyfreecamshow', 'truffles': 'trufflesswineedward', 'swine': 'trufflesswineedward', 'wlan': '3g4gwlan', 'travice': 'giveawaytravices8', 'samsung': 'giveaways8samsung', 'graffiti': 'streetartmuralgraffiti', 'mural': 'streetartmuralgraffiti', 'urbacolors': 'graffitimuralurbacolors', 'handmade': 'handmadestevieacciaioshoppershour', 'stevieacciaio': 'craftshoutepiconetsystevieacciaio', 'bingo': 'bingoracingpoker', 'realbardaxx': 'frontendjsrealbardaxx', 'js': 'frontendjsdeveloper', 'buy': 'buymarketesupportad', 'marketesupport': 'buymarketesupportad', '꽃갈피둘': '꽃갈피둘아이유꽃갈피', '아이유': '꽃갈피둘아이유꽃갈피', '꽃갈피': '꽃갈피둘아이유꽃갈피', 'elephants': 'elephantsteagoodearthtea', 'tea': 'elephantsteagoodearthtea', 'goodearthtea': 'elephantsteagoodearthtea', 'biometrics': 'realestatezkaccessbiometrics', 'thaar': 'thaarjusticertthaar', 'daddy': 'newreleasedaddysusaninlaguna', 'wwan': '4gsatelitewwan', 'retropics': 'vintageoldschoolcoolretropics', 'oldschoolcool': 'vintageoldschoolcoolretropics', 'vintage': 'vintageoldschoolcoolretropics', 'racing': 'racingthankslatest', 's8': 'giveaways8samsung', 'nails': 'photoofthedayhairnails', 'mama_피드백_요구': 'mama_피드백_요구마마야p드백해마마자니', 'hemp': 'marijuanaweedhemp', 'shoppershour': 'handmadestevieacciaioshoppershour', '불타오르네': '불타오르네stand_by_btstrending', 'stand_by_bts': '불타오르네stand_by_btstrending', 'edward': 'trufflesswineedward', 'magazine': 'magazinemoneymakercharlesmilander', 'moneymaker': 'founderworkingmoneymaker', '맑맑_핅듥밹_욝굵': '맑맑_핅듥밹_욝굵구요_백드피_amam마마니피드백아이하니', '아미_멜뮤튭_아이하니': 'ᄋr미mel믂아미_멜뮤튭_아이하니아뭬멜뮵튭튭', 'diet': 'dietweightlossweight', 'weightloss': 'dietweightlossweight', 'weight': 'dietweightlossweight', 'twitch': 'twitchlivesupportsmallstreamers', 'live': 'twitchlivesupportsmallstreamers', '갓새븐': '갓새븐got7officialyouare', 'got7official': '갓새븐got7officialyouare', 'bts_twt': '랩몬스터rapmonsterbts_twt'}\n",
      "stream_tweets-20170926-182453.txt\n"
     ]
    },
    {
     "name": "stdout",
     "output_type": "stream",
     "text": [
      "stream_tweets-20170926-220410.txt\n",
      "stream_tweets-20170927-010032.txt\n",
      "stream_tweets-20170927-035451.txt\n",
      "stream_tweets-20170927-064955.txt\n",
      "stream_tweets-20170927-093042.txt\n",
      "stream_tweets-20170927-122426.txt\n",
      "stream_tweets-20170927-162546.txt\n",
      "stream_tweets-20170927-200537.txt\n",
      "stream_tweets-20170927-224442.txt\n",
      "stream_tweets-20170928-011444.txt\n",
      "stream_tweets-20170928-035012.txt\n",
      "stream_tweets-20170928-063526.txt\n",
      "stream_tweets-20170928-092151.txt\n",
      "stream_tweets-20170928-120047.txt\n",
      "stream_tweets-20170928-145527.txt\n",
      "stream_tweets-20170928-181808.txt\n",
      "stream_tweets-20170928-204016.txt\n",
      "stream_tweets-20170928-231333.txt\n",
      "stream_tweets-20170929-014756.txt\n",
      "stream_tweets-20170929-043303.txt\n",
      "stream_tweets-20170929-070622.txt\n",
      "stream_tweets-20170929-092609.txt\n",
      "stream_tweets-20170929-111029.txt\n",
      "stream_tweets-20170929-130852.txt\n",
      "stream_tweets-20170929-151044.txt\n",
      "stream_tweets-20170929-174612.txt\n",
      "stream_tweets-20170929-203402.txt\n",
      "stream_tweets-20170929-224219.txt\n",
      "stream_tweets-20170930-000710.txt\n",
      "stream_tweets-20170930-015637.txt\n",
      "stream_tweets-20170930-034807.txt\n",
      "stream_tweets-20170930-060545.txt\n",
      "stream_tweets-20170930-082658.txt\n",
      "stream_tweets-20170930-105105.txt\n",
      "stream_tweets-20170930-125830.txt\n",
      "stream_tweets-20170930-153936.txt\n",
      "stream_tweets-20170930-183910.txt\n",
      "stream_tweets-20170930-212140.txt\n",
      "stream_tweets-20170930-233418.txt\n",
      "stream_tweets-20171001-014921.txt\n",
      "stream_tweets-20171001-041201.txt\n",
      "stream_tweets-20171001-062811.txt\n",
      "stream_tweets-20171001-090202.txt\n",
      "stream_tweets-20171001-113228.txt\n",
      "stream_tweets-20171001-140408.txt\n",
      "stream_tweets-20171001-164304.txt\n",
      "stream_tweets-20171001-193210.txt\n",
      "stream_tweets-20171001-220114.txt\n",
      "stream_tweets-20171002-000826.txt\n",
      "stream_tweets-20171002-021833.txt\n",
      "stream_tweets-20171002-043459.txt\n",
      "stream_tweets-20171002-063826.txt\n",
      "stream_tweets-20171002-091119.txt\n",
      "stream_tweets-20171002-113756.txt\n",
      "stream_tweets-20171002-135833.txt\n",
      "stream_tweets-20171002-163445.txt\n",
      "stream_tweets-20171002-191752.txt\n",
      "stream_tweets-20171002-212220.txt\n",
      "stream_tweets-20171002-231242.txt\n",
      "stream_tweets-20171003-005922.txt\n",
      "stream_tweets-20171003-025644.txt\n",
      "stream_tweets-20171003-050749.txt\n",
      "stream_tweets-20171003-081125.txt\n",
      "stream_tweets-20171003-103459.txt\n",
      "stream_tweets-20171003-132021.txt\n",
      "stream_tweets-20171003-171355.txt\n",
      "stream_tweets-20171003-210832.txt\n",
      "stream_tweets-20171003-234602.txt\n",
      "stream_tweets-20171004-023415.txt\n",
      "stream_tweets-20171004-051729.txt\n",
      "stream_tweets-20171004-083506.txt\n",
      "stream_tweets-20171004-113348.txt\n",
      "stream_tweets-20171004-150653.txt\n",
      "stream_tweets-20171004-190931.txt\n",
      "stream_tweets-20171004-220526.txt\n",
      "stream_tweets-20171005-004104.txt\n",
      "stream_tweets-20171005-031748.txt\n",
      "stream_tweets-20171005-061338.txt\n",
      "stream_tweets-20171005-091145.txt\n",
      "stream_tweets-20171005-131049.txt\n",
      "stream_tweets-20171005-183747.txt\n",
      "stream_tweets-20171005-221830.txt\n",
      "stream_tweets-20171006-004357.txt\n",
      "stream_tweets-20171006-020524.txt\n",
      "stream_tweets-20171006-035847.txt\n",
      "stream_tweets-20171006-052613.txt\n",
      "stream_tweets-20171006-075148.txt\n",
      "stream_tweets-20171006-102056.txt\n",
      "stream_tweets-20171006-130534.txt\n",
      "stream_tweets-20171006-160044.txt\n",
      "stream_tweets-20171006-185817.txt\n",
      "stream_tweets-20171006-211950.txt\n",
      "stream_tweets-20171006-233539.txt\n",
      "stream_tweets-20171007-014244.txt\n",
      "stream_tweets-20171007-033546.txt\n",
      "stream_tweets-20171007-045013.txt\n",
      "stream_tweets-20171007-070417.txt\n",
      "stream_tweets-20171007-094203.txt\n",
      "stream_tweets-20171007-122140.txt\n",
      "stream_tweets-20171007-141608.txt\n",
      "stream_tweets-20171007-164122.txt\n",
      "stream_tweets-20171007-192934.txt\n",
      "stream_tweets-20171007-220412.txt\n",
      "stream_tweets-20171008-002059.txt\n",
      "stream_tweets-20171008-023526.txt\n",
      "stream_tweets-20171008-045432.txt\n",
      "stream_tweets-20171008-072517.txt\n",
      "stream_tweets-20171008-094853.txt\n",
      "stream_tweets-20171008-121937.txt\n",
      "stream_tweets-20171008-144321.txt\n",
      "stream_tweets-20171008-172428.txt\n",
      "stream_tweets-20171008-201227.txt\n",
      "stream_tweets-20171008-224125.txt\n",
      "stream_tweets-20171009-003547.txt\n",
      "stream_tweets-20171009-024208.txt\n",
      "stream_tweets-20171009-050549.txt\n",
      "stream_tweets-20171009-072515.txt\n",
      "stream_tweets-20171009-094744.txt\n",
      "stream_tweets-20171009-122801.txt\n",
      "stream_tweets-20171009-152050.txt\n",
      "stream_tweets-20171009-182127.txt\n",
      "stream_tweets-20171009-205418.txt\n",
      "stream_tweets-20171009-225439.txt\n",
      "stream_tweets-20171010-011508.txt\n",
      "stream_tweets-20171010-031233.txt\n",
      "stream_tweets-20171010-052402.txt\n",
      "stream_tweets-20171010-075055.txt\n",
      "stream_tweets-20171010-102349.txt\n",
      "stream_tweets-20171010-123012.txt\n",
      "stream_tweets-20171010-142235.txt\n",
      "stream_tweets-20171010-163306.txt\n",
      "stream_tweets-20171010-182025.txt\n",
      "stream_tweets-20171010-200855.txt\n",
      "stream_tweets-20171010-214808.txt\n",
      "stream_tweets-20171010-230727.txt\n",
      "stream_tweets-20171011-020540.txt\n",
      "stream_tweets-20171011-043415.txt\n",
      "stream_tweets-20171011-062601.txt\n",
      "stream_tweets-20171011-085439.txt\n",
      "stream_tweets-20171011-110940.txt\n",
      "stream_tweets-20171011-133837.txt\n",
      "stream_tweets-20171011-163606.txt\n",
      "stream_tweets-20171011-192354.txt\n",
      "stream_tweets-20171011-214521.txt\n",
      "stream_tweets-20171011-235640.txt\n",
      "stream_tweets-20171012-015258.txt\n",
      "stream_tweets-20171012-041942.txt\n",
      "stream_tweets-20171012-064622.txt\n",
      "stream_tweets-20171012-091245.txt\n",
      "stream_tweets-20171012-111519.txt\n",
      "stream_tweets-20171012-132216.txt\n",
      "stream_tweets-20171012-155300.txt\n",
      "stream_tweets-20171012-181232.txt\n",
      "stream_tweets-20171012-200658.txt\n",
      "stream_tweets-20171012-215814.txt\n",
      "stream_tweets-20171012-234245.txt\n",
      "stream_tweets-20171013-015152.txt\n",
      "stream_tweets-20171013-040523.txt\n",
      "stream_tweets-20171013-061527.txt\n",
      "stream_tweets-20171013-083546.txt\n",
      "stream_tweets-20171013-105113.txt\n",
      "stream_tweets-20171013-122652.txt\n",
      "stream_tweets-20171013-144442.txt\n",
      "stream_tweets-20171013-174241.txt\n",
      "stream_tweets-20171013-203315.txt\n",
      "stream_tweets-20171013-223058.txt\n",
      "stream_tweets-20171014-001639.txt\n",
      "stream_tweets-20171014-025538.txt\n",
      "stream_tweets-20171014-045320.txt\n",
      "stream_tweets-20171014-071022.txt\n",
      "stream_tweets-20171014-095349.txt\n",
      "stream_tweets-20171014-123204.txt\n",
      "stream_tweets-20171014-144236.txt\n",
      "stream_tweets-20171014-164206.txt\n",
      "stream_tweets-20171014-190338.txt\n",
      "stream_tweets-20171014-213737.txt\n",
      "stream_tweets-20171014-231034.txt\n",
      "stream_tweets-20171015-011400.txt\n",
      "stream_tweets-20171015-030604.txt\n",
      "stream_tweets-20171015-050929.txt\n",
      "stream_tweets-20171015-072000.txt\n",
      "stream_tweets-20171015-091314.txt\n",
      "stream_tweets-20171015-111630.txt\n",
      "stream_tweets-20171015-130557.txt\n",
      "stream_tweets-20171015-150110.txt\n",
      "stream_tweets-20171015-172550.txt\n",
      "stream_tweets-20171015-194122.txt\n",
      "stream_tweets-20171015-213622.txt\n",
      "stream_tweets-20171015-232446.txt\n",
      "stream_tweets-20171016-010008.txt\n",
      "stream_tweets-20171016-022036.txt\n",
      "stream_tweets-20171016-034222.txt\n",
      "stream_tweets-20171016-051811.txt\n",
      "stream_tweets-20171016-065648.txt\n",
      "stream_tweets-20171016-083307.txt\n",
      "stream_tweets-20171016-101214.txt\n",
      "stream_tweets-20171016-115152.txt\n",
      "stream_tweets-20171016-134527.txt\n",
      "stream_tweets-20171016-154922.txt\n",
      "stream_tweets-20171016-175954.txt\n",
      "stream_tweets-20171016-195109.txt\n",
      "stream_tweets-20171016-213500.txt\n",
      "stream_tweets-20171016-232136.txt\n",
      "stream_tweets-20171017-002644.txt\n",
      "stream_tweets-20171017-015011.txt\n",
      "stream_tweets-20171017-033100.txt\n",
      "stream_tweets-20171017-051548.txt\n",
      "stream_tweets-20171017-071511.txt\n",
      "stream_tweets-20171017-091137.txt\n",
      "stream_tweets-20171017-112420.txt\n",
      "stream_tweets-20171017-135757.txt\n",
      "stream_tweets-20171017-162110.txt\n",
      "stream_tweets-20171017-190911.txt\n",
      "stream_tweets-20171017-215457.txt\n",
      "stream_tweets-20171018-000252.txt\n",
      "stream_tweets-20171018-022539.txt\n",
      "stream_tweets-20171018-044649.txt\n",
      "stream_tweets-20171018-073404.txt\n",
      "stream_tweets-20171018-102345.txt\n",
      "stream_tweets-20171018-123831.txt\n",
      "stream_tweets-20171018-153951.txt\n",
      "stream_tweets-20171018-192508.txt\n",
      "stream_tweets-20171018-215043.txt\n",
      "stream_tweets-20171018-233841.txt\n",
      "stream_tweets-20171019-014927.txt\n",
      "stream_tweets-20171019-035531.txt\n",
      "stream_tweets-20171019-055627.txt\n",
      "stream_tweets-20171019-073825.txt\n",
      "stream_tweets-20171019-091221.txt\n",
      "stream_tweets-20171019-114309.txt\n",
      "stream_tweets-20171019-135606.txt\n",
      "stream_tweets-20171019-164329.txt\n",
      "stream_tweets-20171019-192526.txt\n",
      "stream_tweets-20171019-214832.txt\n",
      "stream_tweets-20171020-000226.txt\n",
      "stream_tweets-20171020-020056.txt\n",
      "stream_tweets-20171020-040804.txt\n",
      "stream_tweets-20171020-064311.txt\n",
      "stream_tweets-20171020-083456.txt\n",
      "stream_tweets-20171020-103156.txt\n",
      "stream_tweets-20171020-121454.txt\n"
     ]
    },
    {
     "name": "stdout",
     "output_type": "stream",
     "text": [
      "stream_tweets-20171020-140643.txt\n",
      "stream_tweets-20171020-165329.txt\n",
      "stream_tweets-20171020-195312.txt\n",
      "stream_tweets-20171020-221200.txt\n",
      "stream_tweets-20171021-000118.txt\n",
      "stream_tweets-20171021-021656.txt\n",
      "stream_tweets-20171021-043701.txt\n",
      "stream_tweets-20171021-063733.txt\n",
      "stream_tweets-20171021-085957.txt\n",
      "stream_tweets-20171021-112433.txt\n",
      "stream_tweets-20171021-130957.txt\n",
      "stream_tweets-20171021-145756.txt\n",
      "stream_tweets-20171021-173243.txt\n",
      "stream_tweets-20171021-193939.txt\n",
      "stream_tweets-20171021-214107.txt\n",
      "stream_tweets-20171021-234637.txt\n",
      "stream_tweets-20171022-012054.txt\n",
      "stream_tweets-20171022-031820.txt\n",
      "stream_tweets-20171022-054136.txt\n",
      "stream_tweets-20171022-074836.txt\n",
      "stream_tweets-20171022-100640.txt\n",
      "stream_tweets-20171022-124029.txt\n",
      "stream_tweets-20171022-150538.txt\n",
      "stream_tweets-20171022-174008.txt\n",
      "stream_tweets-20171022-192250.txt\n",
      "stream_tweets-20171022-214548.txt\n",
      "stream_tweets-20171022-233611.txt\n",
      "stream_tweets-20171023-013012.txt\n",
      "stream_tweets-20171023-034208.txt\n",
      "stream_tweets-20171023-054056.txt\n",
      "stream_tweets-20171023-075242.txt\n",
      "stream_tweets-20171023-102017.txt\n",
      "stream_tweets-20171023-125716.txt\n",
      "stream_tweets-20171023-153917.txt\n",
      "stream_tweets-20171023-182849.txt\n",
      "stream_tweets-20171023-205906.txt\n",
      "stream_tweets-20171023-231405.txt\n",
      "stream_tweets-20171024-014441.txt\n",
      "stream_tweets-20171024-033935.txt\n",
      "stream_tweets-20171024-051500.txt\n",
      "stream_tweets-20171024-070039.txt\n",
      "stream_tweets-20171024-090932.txt\n",
      "stream_tweets-20171024-112303.txt\n",
      "stream_tweets-20171024-134901.txt\n",
      "stream_tweets-20171024-162421.txt\n",
      "stream_tweets-20171024-191659.txt\n",
      "stream_tweets-20171024-213430.txt\n",
      "stream_tweets-20171024-232006.txt\n",
      "stream_tweets-20171025-011809.txt\n",
      "stream_tweets-20171025-033613.txt\n",
      "stream_tweets-20171025-045721.txt\n",
      "stream_tweets-20171025-070304.txt\n",
      "stream_tweets-20171025-091331.txt\n",
      "stream_tweets-20171025-102515.txt\n",
      "stream_tweets-20171025-124214.txt\n",
      "stream_tweets-20171025-153550.txt\n",
      "stream_tweets-20171025-190807.txt\n",
      "stream_tweets-20171025-223133.txt\n",
      "stream_tweets-20171026-011644.txt\n",
      "stream_tweets-20171026-041706.txt\n",
      "stream_tweets-20171026-072035.txt\n",
      "stream_tweets-20171026-110458.txt\n",
      "stream_tweets-20171026-154354.txt\n",
      "stream_tweets-20171026-184858.txt\n",
      "stream_tweets-20171026-203527.txt\n",
      "stream_tweets-20171026-220811.txt\n",
      "stream_tweets-20171026-233619.txt\n",
      "stream_tweets-20171027-011451.txt\n",
      "stream_tweets-20171027-024815.txt\n",
      "stream_tweets-20171027-043906.txt\n",
      "stream_tweets-20171027-064746.txt\n",
      "stream_tweets-20171027-084836.txt\n",
      "stream_tweets-20171027-110011.txt\n",
      "stream_tweets-20171027-133822.txt\n",
      "stream_tweets-20171027-160354.txt\n",
      "stream_tweets-20171027-181434.txt\n",
      "stream_tweets-20171027-200516.txt\n",
      "stream_tweets-20171027-214249.txt\n",
      "stream_tweets-20171027-230903.txt\n",
      "stream_tweets-20171028-004521.txt\n",
      "stream_tweets-20171028-020156.txt\n",
      "stream_tweets-20171028-033620.txt\n",
      "stream_tweets-20171028-051518.txt\n",
      "stream_tweets-20171028-073817.txt\n",
      "stream_tweets-20171028-095152.txt\n",
      "stream_tweets-20171028-121734.txt\n",
      "stream_tweets-20171028-142742.txt\n",
      "stream_tweets-20171028-170559.txt\n",
      "stream_tweets-20171028-193003.txt\n",
      "stream_tweets-20171028-211608.txt\n",
      "stream_tweets-20171028-225900.txt\n",
      "stream_tweets-20171029-003738.txt\n",
      "stream_tweets-20171029-021513.txt\n",
      "stream_tweets-20171029-040838.txt\n",
      "stream_tweets-20171029-062233.txt\n",
      "stream_tweets-20171029-084756.txt\n",
      "stream_tweets-20171029-111408.txt\n",
      "stream_tweets-20171029-134358.txt\n",
      "stream_tweets-20171029-163008.txt\n",
      "stream_tweets-20171029-185632.txt\n",
      "stream_tweets-20171029-205414.txt\n",
      "stream_tweets-20171029-223748.txt\n",
      "stream_tweets-20171030-001611.txt\n",
      "stream_tweets-20171030-020345.txt\n",
      "stream_tweets-20171030-040107.txt\n",
      "stream_tweets-20171030-061021.txt\n",
      "stream_tweets-20171030-083040.txt\n",
      "stream_tweets-20171030-105743.txt\n",
      "stream_tweets-20171030-132514.txt\n",
      "stream_tweets-20171030-160152.txt\n",
      "stream_tweets-20171030-182235.txt\n",
      "stream_tweets-20171030-201157.txt\n",
      "stream_tweets-20171030-214449.txt\n",
      "stream_tweets-20171030-232140.txt\n",
      "stream_tweets-20171031-004708.txt\n",
      "stream_tweets-20171031-022940.txt\n",
      "stream_tweets-20171031-041448.txt\n",
      "stream_tweets-20171031-061439.txt\n",
      "stream_tweets-20171031-082932.txt\n",
      "stream_tweets-20171031-103107.txt\n",
      "stream_tweets-20171031-130255.txt\n",
      "stream_tweets-20171031-154718.txt\n",
      "stream_tweets-20171031-181455.txt\n",
      "stream_tweets-20171031-201105.txt\n",
      "stream_tweets-20171031-214835.txt\n",
      "stream_tweets-20171031-232609.txt\n",
      "stream_tweets-20171101-010514.txt\n",
      "stream_tweets-20171101-024819.txt\n",
      "stream_tweets-20171101-043815.txt\n",
      "stream_tweets-20171101-064907.txt\n",
      "stream_tweets-20171101-090724.txt\n",
      "stream_tweets-20171101-113718.txt\n",
      "stream_tweets-20171101-143324.txt\n",
      "stream_tweets-20171101-170837.txt\n",
      "stream_tweets-20171101-192307.txt\n",
      "stream_tweets-20171101-210403.txt\n",
      "stream_tweets-20171101-223550.txt\n",
      "stream_tweets-20171102-000315.txt\n",
      "stream_tweets-20171102-013311.txt\n",
      "stream_tweets-20171102-031253.txt\n",
      "stream_tweets-20171102-050418.txt\n",
      "stream_tweets-20171102-071049.txt\n",
      "stream_tweets-20171102-091829.txt\n",
      "stream_tweets-20171102-114939.txt\n",
      "stream_tweets-20171102-141233.txt\n",
      "stream_tweets-20171102-164137.txt\n",
      "stream_tweets-20171102-191339.txt\n",
      "stream_tweets-20171102-222915.txt\n",
      "stream_tweets-20171103-013230.txt\n",
      "stream_tweets-20171103-044929.txt\n",
      "stream_tweets-20171103-081749.txt\n",
      "stream_tweets-20171103-104802.txt\n",
      "stream_tweets-20171103-141103.txt\n",
      "stream_tweets-20171103-190243.txt\n",
      "stream_tweets-20171103-224406.txt\n",
      "stream_tweets-20171104-013115.txt\n",
      "stream_tweets-20171104-050832.txt\n",
      "stream_tweets-20171104-090005.txt\n",
      "stream_tweets-20171104-125906.txt\n",
      "stream_tweets-20171104-172900.txt\n",
      "stream_tweets-20171104-212757.txt\n",
      "stream_tweets-20171105-001749.txt\n",
      "stream_tweets-20171105-031041.txt\n",
      "stream_tweets-20171105-070026.txt\n",
      "stream_tweets-20171105-102026.txt\n",
      "stream_tweets-20171105-140617.txt\n",
      "stream_tweets-20171105-185051.txt\n",
      "stream_tweets-20171105-204926.txt\n",
      "stream_tweets-20171105-213031.txt\n",
      "stream_tweets-20171105-222102.txt\n",
      "stream_tweets-20171105-233247.txt\n",
      "stream_tweets-20171106-004144.txt\n",
      "stream_tweets-20171106-024201.txt\n",
      "stream_tweets-20171106-051242.txt\n",
      "stream_tweets-20171106-074918.txt\n",
      "stream_tweets-20171106-103819.txt\n",
      "stream_tweets-20171106-131245.txt\n",
      "stream_tweets-20171106-165854.txt\n",
      "stream_tweets-20171106-204611.txt\n",
      "stream_tweets-20171106-231454.txt\n",
      "stream_tweets-20171107-021054.txt\n",
      "stream_tweets-20171107-052314.txt\n",
      "stream_tweets-20171107-090709.txt\n",
      "stream_tweets-20171107-125018.txt\n",
      "stream_tweets-20171107-172421.txt\n",
      "stream_tweets-20171107-210620.txt\n",
      "stream_tweets-20171108-001953.txt\n",
      "stream_tweets-20171108-032732.txt\n",
      "stream_tweets-20171108-061721.txt\n",
      "stream_tweets-20171108-090358.txt\n",
      "stream_tweets-20171108-111940.txt\n",
      "stream_tweets-20171108-132602.txt\n",
      "stream_tweets-20171108-163823.txt\n",
      "stream_tweets-20171108-203728.txt\n",
      "stream_tweets-20171108-225831.txt\n",
      "stream_tweets-20171109-012316.txt\n",
      "stream_tweets-20171109-033726.txt\n",
      "stream_tweets-20171109-064314.txt\n",
      "stream_tweets-20171109-095911.txt\n",
      "stream_tweets-20171109-133637.txt\n",
      "stream_tweets-20171109-180423.txt\n",
      "stream_tweets-20171109-215500.txt\n",
      "stream_tweets-20171110-004355.txt\n",
      "stream_tweets-20171110-033804.txt\n",
      "stream_tweets-20171110-063102.txt\n",
      "stream_tweets-20171110-091628.txt\n",
      "stream_tweets-20171110-122740.txt\n",
      "stream_tweets-20171110-162629.txt\n",
      "stream_tweets-20171110-203406.txt\n",
      "stream_tweets-20171110-232639.txt\n",
      "stream_tweets-20171111-022235.txt\n",
      "stream_tweets-20171111-051639.txt\n",
      "stream_tweets-20171111-073315.txt\n",
      "stream_tweets-20171111-094138.txt\n",
      "stream_tweets-20171111-120626.txt\n",
      "stream_tweets-20171111-144034.txt\n",
      "stream_tweets-20171111-172705.txt\n",
      "stream_tweets-20171111-200050.txt\n",
      "stream_tweets-20171111-221310.txt\n",
      "stream_tweets-20171112-005229.txt\n",
      "stream_tweets-20171112-040513.txt\n",
      "stream_tweets-20171112-063412.txt\n",
      "stream_tweets-20171112-085609.txt\n",
      "stream_tweets-20171112-111212.txt\n",
      "stream_tweets-20171112-135313.txt\n",
      "stream_tweets-20171112-165348.txt\n",
      "stream_tweets-20171112-193156.txt\n",
      "stream_tweets-20171112-215225.txt\n",
      "stream_tweets-20171113-001128.txt\n",
      "stream_tweets-20171113-024645.txt\n",
      "stream_tweets-20171113-060736.txt\n",
      "stream_tweets-20171113-091245.txt\n",
      "stream_tweets-20171113-113531.txt\n",
      "stream_tweets-20171113-145128.txt\n",
      "stream_tweets-20171113-185020.txt\n",
      "stream_tweets-20171113-213616.txt\n",
      "stream_tweets-20171114-002027.txt\n",
      "stream_tweets-20171114-025958.txt\n",
      "stream_tweets-20171114-062430.txt\n",
      "stream_tweets-20171114-101159.txt\n",
      "stream_tweets-20171114-134801.txt\n"
     ]
    },
    {
     "name": "stdout",
     "output_type": "stream",
     "text": [
      "stream_tweets-20171114-175857.txt\n",
      "stream_tweets-20171114-210548.txt\n",
      "stream_tweets-20171115-000144.txt\n",
      "stream_tweets-20171115-031808.txt\n",
      "stream_tweets-20171115-065923.txt\n",
      "stream_tweets-20171115-104700.txt\n",
      "stream_tweets-20171115-142803.txt\n",
      "stream_tweets-20171115-185831.txt\n",
      "stream_tweets-20171115-222356.txt\n",
      "stream_tweets-20171116-012802.txt\n",
      "stream_tweets-20171202-152144.txt\n",
      "stream_tweets-20171202-183446.txt\n",
      "stream_tweets-20171202-210519.txt\n",
      "stream_tweets-20171202-232916.txt\n",
      "stream_tweets-20171203-020018.txt\n",
      "stream_tweets-20171203-042712.txt\n",
      "stream_tweets-20171203-064604.txt\n",
      "stream_tweets-20171203-091922.txt\n",
      "stream_tweets-20171203-115144.txt\n",
      "stream_tweets-20171203-144238.txt\n",
      "stream_tweets-20171203-175345.txt\n",
      "stream_tweets-20171203-210249.txt\n",
      "stream_tweets-20171203-234046.txt\n",
      "stream_tweets-20171204-015258.txt\n",
      "stream_tweets-20171204-035042.txt\n",
      "stream_tweets-20171204-054910.txt\n",
      "stream_tweets-20171204-082356.txt\n",
      "stream_tweets-20171204-105759.txt\n",
      "stream_tweets-20171204-133145.txt\n",
      "stream_tweets-20171204-161359.txt\n",
      "stream_tweets-20171204-191416.txt\n",
      "stream_tweets-20171204-215042.txt\n",
      "stream_tweets-20171204-235501.txt\n",
      "stream_tweets-20171205-022040.txt\n",
      "stream_tweets-20171205-043547.txt\n",
      "stream_tweets-20171205-070241.txt\n",
      "stream_tweets-20171205-091724.txt\n",
      "stream_tweets-20171205-115914.txt\n",
      "stream_tweets-20171205-145923.txt\n",
      "stream_tweets-20171205-180934.txt\n",
      "stream_tweets-20171205-210917.txt\n",
      "stream_tweets-20171205-234111.txt\n",
      "stream_tweets-20171206-015225.txt\n",
      "stream_tweets-20171206-035407.txt\n",
      "stream_tweets-20171206-061907.txt\n",
      "stream_tweets-20171206-084959.txt\n",
      "stream_tweets-20171206-104817.txt\n",
      "stream_tweets-20171206-132017.txt\n",
      "stream_tweets-20171206-161348.txt\n",
      "stream_tweets-20171206-191534.txt\n",
      "stream_tweets-20171206-215002.txt\n",
      "stream_tweets-20171207-000205.txt\n",
      "stream_tweets-20171207-020331.txt\n",
      "stream_tweets-20171207-043038.txt\n",
      "stream_tweets-20171207-065350.txt\n",
      "stream_tweets-20171207-091615.txt\n",
      "stream_tweets-20171207-115517.txt\n",
      "stream_tweets-20171207-145649.txt\n",
      "stream_tweets-20171207-182311.txt\n",
      "stream_tweets-20171207-211626.txt\n",
      "stream_tweets-20171207-235927.txt\n",
      "stream_tweets-20171208-023504.txt\n",
      "stream_tweets-20171208-051539.txt\n",
      "stream_tweets-20171208-075549.txt\n",
      "stream_tweets-20171208-105740.txt\n",
      "stream_tweets-20171208-125026.txt\n",
      "stream_tweets-20171208-154503.txt\n",
      "stream_tweets-20171208-182816.txt\n",
      "stream_tweets-20171208-211642.txt\n",
      "stream_tweets-20171208-230842.txt\n",
      "stream_tweets-20171209-014120.txt\n",
      "stream_tweets-20171209-043008.txt\n",
      "stream_tweets-20171209-071827.txt\n",
      "stream_tweets-20171209-094609.txt\n",
      "stream_tweets-20171209-124055.txt\n",
      "stream_tweets-20171209-153615.txt\n",
      "stream_tweets-20171209-183704.txt\n",
      "stream_tweets-20171209-212639.txt\n",
      "stream_tweets-20171209-235648.txt\n",
      "stream_tweets-20171210-021537.txt\n",
      "stream_tweets-20171210-042839.txt\n",
      "stream_tweets-20171210-064918.txt\n",
      "stream_tweets-20171210-093155.txt\n",
      "stream_tweets-20171210-123115.txt\n",
      "stream_tweets-20171210-152733.txt\n",
      "stream_tweets-20171210-185036.txt\n",
      "stream_tweets-20171210-211446.txt\n",
      "stream_tweets-20171210-235723.txt\n",
      "stream_tweets-20171211-023405.txt\n",
      "stream_tweets-20171211-045325.txt\n",
      "stream_tweets-20171211-073126.txt\n",
      "stream_tweets-20171211-094727.txt\n",
      "stream_tweets-20171211-125534.txt\n",
      "stream_tweets-20171211-152345.txt\n",
      "stream_tweets-20171211-183609.txt\n",
      "stream_tweets-20171211-214018.txt\n",
      "stream_tweets-20171212-000831.txt\n",
      "stream_tweets-20171212-022620.txt\n",
      "stream_tweets-20171212-050710.txt\n",
      "stream_tweets-20171212-075223.txt\n",
      "stream_tweets-20171212-114256.txt\n",
      "stream_tweets-20171212-160619.txt\n",
      "stream_tweets-20171212-202543.txt\n",
      "stream_tweets-20171212-232521.txt\n",
      "stream_tweets-20171213-023407.txt\n",
      "stream_tweets-20171213-054705.txt\n",
      "stream_tweets-20171213-091834.txt\n",
      "stream_tweets-20171213-121624.txt\n",
      "stream_tweets-20171213-153347.txt\n",
      "stream_tweets-20171213-191841.txt\n",
      "stream_tweets-20171213-221303.txt\n",
      "stream_tweets-20171214-010408.txt\n",
      "stream_tweets-20171214-041507.txt\n",
      "stream_tweets-20171214-061915.txt\n",
      "stream_tweets-20171214-084615.txt\n",
      "stream_tweets-20171214-111045.txt\n",
      "stream_tweets-20171214-133718.txt\n",
      "stream_tweets-20171214-163833.txt\n",
      "stream_tweets-20171214-200241.txt\n",
      "stream_tweets-20171214-224710.txt\n",
      "stream_tweets-20171215-011053.txt\n",
      "stream_tweets-20171215-035203.txt\n",
      "stream_tweets-20171215-062003.txt\n",
      "stream_tweets-20171215-083729.txt\n",
      "stream_tweets-20171215-112817.txt\n",
      "stream_tweets-20171215-134453.txt\n",
      "stream_tweets-20171215-164922.txt\n",
      "stream_tweets-20171215-201510.txt\n",
      "stream_tweets-20171215-231359.txt\n",
      "stream_tweets-20171216-015755.txt\n",
      "stream_tweets-20171216-041807.txt\n",
      "stream_tweets-20171216-071136.txt\n",
      "stream_tweets-20171216-095038.txt\n",
      "stream_tweets-20171216-132128.txt\n",
      "stream_tweets-20171216-173306.txt\n",
      "stream_tweets-20171216-214741.txt\n",
      "stream_tweets-20171217-002826.txt\n",
      "stream_tweets-20171217-033833.txt\n",
      "stream_tweets-20171217-071037.txt\n",
      "stream_tweets-20171217-105309.txt\n",
      "stream_tweets-20171217-144644.txt\n",
      "stream_tweets-20171217-191813.txt\n",
      "stream_tweets-20171217-224110.txt\n",
      "stream_tweets-20171218-012654.txt\n",
      "stream_tweets-20171218-040011.txt\n",
      "stream_tweets-20171218-071516.txt\n",
      "stream_tweets-20171218-105658.txt\n",
      "stream_tweets-20171218-144216.txt\n",
      "stream_tweets-20171218-190618.txt\n",
      "stream_tweets-20171218-222355.txt\n",
      "stream_tweets-20171219-011812.txt\n",
      "stream_tweets-20171219-042421.txt\n",
      "stream_tweets-20171219-065757.txt\n",
      "stream_tweets-20171219-102517.txt\n",
      "stream_tweets-20171219-134918.txt\n",
      "stream_tweets-20171219-181547.txt\n",
      "stream_tweets-20171219-221628.txt\n",
      "stream_tweets-20171220-013657.txt\n",
      "stream_tweets-20171220-044424.txt\n",
      "stream_tweets-20171220-071304.txt\n",
      "stream_tweets-20171220-102256.txt\n",
      "stream_tweets-20171220-135817.txt\n",
      "stream_tweets-20171220-190626.txt\n",
      "stream_tweets-20171220-230621.txt\n",
      "stream_tweets-20171221-021411.txt\n",
      "stream_tweets-20171221-054835.txt\n",
      "stream_tweets-20171221-093414.txt\n",
      "stream_tweets-20171221-135253.txt\n",
      "stream_tweets-20171221-192109.txt\n",
      "stream_tweets-20171221-232706.txt\n",
      "stream_tweets-20171222-052456.txt\n",
      "stream_tweets-20171222-093250.txt\n",
      "stream_tweets-20171222-133452.txt\n",
      "stream_tweets-20171222-183507.txt\n",
      "stream_tweets-20171222-223110.txt\n",
      "stream_tweets-20171223-014734.txt\n",
      "stream_tweets-20171223-053612.txt\n",
      "stream_tweets-20171223-102200.txt\n",
      "stream_tweets-20171223-143259.txt\n",
      "stream_tweets-20171223-191634.txt\n",
      "stream_tweets-20171223-233202.txt\n",
      "stream_tweets-20171224-034756.txt\n",
      "stream_tweets-20171224-085934.txt\n",
      "stream_tweets-20171224-133610.txt\n",
      "stream_tweets-20171224-182336.txt\n",
      "stream_tweets-20171224-231506.txt\n",
      "stream_tweets-20171225-034933.txt\n",
      "stream_tweets-20171225-090741.txt\n",
      "stream_tweets-20171225-141420.txt\n",
      "stream_tweets-20171225-203054.txt\n",
      "stream_tweets-20171226-004431.txt\n",
      "stream_tweets-20171226-045701.txt\n",
      "stream_tweets-20171226-101526.txt\n",
      "stream_tweets-20171226-154825.txt\n",
      "stream_tweets-20171226-212643.txt\n",
      "stream_tweets-20171227-015159.txt\n",
      "stream_tweets-20171227-062306.txt\n",
      "stream_tweets-20171227-112554.txt\n",
      "stream_tweets-20171227-170144.txt\n",
      "stream_tweets-20171227-222501.txt\n",
      "stream_tweets-20171228-020016.txt\n",
      "stream_tweets-20171228-055154.txt\n",
      "stream_tweets-20171228-093142.txt\n",
      "stream_tweets-20171228-125939.txt\n",
      "stream_tweets-20171228-172537.txt\n",
      "stream_tweets-20171228-214929.txt\n",
      "stream_tweets-20171229-013409.txt\n",
      "stream_tweets-20171229-050411.txt\n",
      "stream_tweets-20171229-091643.txt\n",
      "stream_tweets-20171229-134710.txt\n",
      "stream_tweets-20171229-193247.txt\n",
      "stream_tweets-20171229-220656.txt\n",
      "stream_tweets-20171229-235824.txt\n",
      "stream_tweets-20171230-021644.txt\n",
      "stream_tweets-20171230-051929.txt\n",
      "stream_tweets-20171230-085553.txt\n",
      "stream_tweets-20171230-124926.txt\n",
      "stream_tweets-20171230-180224.txt\n",
      "stream_tweets-20171230-223955.txt\n",
      "stream_tweets-20171231-021424.txt\n",
      "stream_tweets-20171231-061309.txt\n",
      "stream_tweets-20171231-104340.txt\n",
      "stream_tweets-20171231-140631.txt\n",
      "stream_tweets-20171231-192451.txt\n",
      "stream_tweets-20171231-231526.txt\n",
      "stream_tweets-20180101-023343.txt\n",
      "stream_tweets-20180101-061728.txt\n",
      "stream_tweets-20180101-100933.txt\n",
      "stream_tweets-20180101-145456.txt\n",
      "stream_tweets-20180101-203515.txt\n",
      "stream_tweets-20180102-004301.txt\n",
      "stream_tweets-20180102-030827.txt\n",
      "stream_tweets-20180102-050730.txt\n",
      "stream_tweets-20180102-083347.txt\n",
      "stream_tweets-20180102-121242.txt\n",
      "stream_tweets-20180102-153600.txt\n",
      "stream_tweets-20180102-184947.txt\n",
      "stream_tweets-20180102-220040.txt\n",
      "stream_tweets-20180103-000013.txt\n",
      "stream_tweets-20180103-024338.txt\n",
      "stream_tweets-20180103-062126.txt\n"
     ]
    },
    {
     "name": "stdout",
     "output_type": "stream",
     "text": [
      "stream_tweets-20180103-102906.txt\n",
      "stream_tweets-20180103-145435.txt\n",
      "stream_tweets-20180103-200838.txt\n",
      "stream_tweets-20180103-235620.txt\n",
      "stream_tweets-20180104-034619.txt\n",
      "stream_tweets-20180104-074124.txt\n",
      "stream_tweets-20180104-125658.txt\n",
      "stream_tweets-20180104-174714.txt\n",
      "stream_tweets-20180104-220239.txt\n",
      "stream_tweets-20180105-011957.txt\n",
      "stream_tweets-20180105-041802.txt\n",
      "stream_tweets-20180105-080034.txt\n",
      "stream_tweets-20180105-121750.txt\n",
      "stream_tweets-20180105-171814.txt\n",
      "stream_tweets-20180105-213114.txt\n",
      "stream_tweets-20180105-235645.txt\n",
      "stream_tweets-20180106-022918.txt\n",
      "stream_tweets-20180106-055027.txt\n",
      "stream_tweets-20180106-093313.txt\n",
      "stream_tweets-20180106-130700.txt\n",
      "stream_tweets-20180106-174242.txt\n",
      "stream_tweets-20180106-220355.txt\n",
      "stream_tweets-20180107-014847.txt\n",
      "stream_tweets-20180107-055230.txt\n",
      "stream_tweets-20180107-101838.txt\n",
      "stream_tweets-20180107-190713.txt\n",
      "stream_tweets-20180107-223607.txt\n",
      "stream_tweets-20180108-013429.txt\n",
      "stream_tweets-20180108-044714.txt\n",
      "stream_tweets-20180108-083210.txt\n",
      "stream_tweets-20180108-121238.txt\n",
      "stream_tweets-20180108-160756.txt\n",
      "stream_tweets-20180108-204330.txt\n",
      "stream_tweets-20180108-235852.txt\n",
      "stream_tweets-20180109-031707.txt\n",
      "stream_tweets-20180109-071615.txt\n",
      "stream_tweets-20180109-105010.txt\n",
      "stream_tweets-20180109-145317.txt\n",
      "stream_tweets-20180109-200703.txt\n",
      "stream_tweets-20180110-000827.txt\n",
      "stream_tweets-20180110-035104.txt\n",
      "stream_tweets-20180110-075707.txt\n",
      "stream_tweets-20180110-113856.txt\n",
      "stream_tweets-20180110-163853.txt\n",
      "stream_tweets-20180110-210713.txt\n",
      "stream_tweets-20180111-002130.txt\n",
      "stream_tweets-20180111-034435.txt\n",
      "stream_tweets-20180111-073851.txt\n",
      "stream_tweets-20180111-105957.txt\n",
      "stream_tweets-20180111-152523.txt\n",
      "stream_tweets-20180111-200138.txt\n",
      "stream_tweets-20180111-234745.txt\n",
      "stream_tweets-20180112-025158.txt\n",
      "stream_tweets-20180112-064150.txt\n",
      "stream_tweets-20180112-104655.txt\n",
      "stream_tweets-20180112-145927.txt\n",
      "stream_tweets-20180112-193029.txt\n",
      "stream_tweets-20180112-223026.txt\n",
      "stream_tweets-20180113-005831.txt\n",
      "stream_tweets-20180113-033516.txt\n",
      "stream_tweets-20180113-061816.txt\n",
      "stream_tweets-20180113-091605.txt\n",
      "stream_tweets-20180113-114521.txt\n",
      "stream_tweets-20180113-144949.txt\n",
      "stream_tweets-20180113-184910.txt\n",
      "stream_tweets-20180113-215659.txt\n",
      "stream_tweets-20180114-000307.txt\n",
      "stream_tweets-20180114-022353.txt\n",
      "stream_tweets-20180114-052444.txt\n",
      "stream_tweets-20180114-090006.txt\n",
      "stream_tweets-20180114-114941.txt\n",
      "stream_tweets-20180114-143440.txt\n",
      "stream_tweets-20180114-161518.txt\n",
      "stream_tweets-20180114-190133.txt\n",
      "stream_tweets-20180114-204953.txt\n",
      "stream_tweets-20180114-220653.txt\n",
      "stream_tweets-20180115-000138.txt\n",
      "stream_tweets-20180115-022633.txt\n",
      "stream_tweets-20180115-051801.txt\n",
      "stream_tweets-20180115-084411.txt\n",
      "stream_tweets-20180115-112316.txt\n",
      "stream_tweets-20180115-140215.txt\n",
      "stream_tweets-20180115-171900.txt\n",
      "stream_tweets-20180115-203053.txt\n",
      "stream_tweets-20180115-223737.txt\n",
      "stream_tweets-20180116-003214.txt\n",
      "stream_tweets-20180116-023555.txt\n",
      "stream_tweets-20180116-044033.txt\n",
      "stream_tweets-20180116-070240.txt\n",
      "stream_tweets-20180116-092305.txt\n",
      "stream_tweets-20180116-113315.txt\n",
      "stream_tweets-20180116-140401.txt\n",
      "stream_tweets-20180116-170505.txt\n",
      "stream_tweets-20180116-203702.txt\n",
      "stream_tweets-20180116-225332.txt\n",
      "stream_tweets-20180117-005408.txt\n",
      "stream_tweets-20180117-025804.txt\n",
      "stream_tweets-20180117-041337.txt\n",
      "stream_tweets-20180117-060908.txt\n",
      "stream_tweets-20180117-085534.txt\n",
      "stream_tweets-20180117-120619.txt\n",
      "stream_tweets-20180117-154144.txt\n",
      "stream_tweets-20180117-200027.txt\n",
      "stream_tweets-20180117-225648.txt\n",
      "stream_tweets-20180118-015027.txt\n",
      "stream_tweets-20180118-051119.txt\n",
      "stream_tweets-20180118-080704.txt\n",
      "stream_tweets-20180118-115427.txt\n",
      "stream_tweets-20180118-164502.txt\n",
      "stream_tweets-20180118-213807.txt\n",
      "stream_tweets-20180119-003542.txt\n",
      "stream_tweets-20180119-040001.txt\n",
      "stream_tweets-20180119-074231.txt\n",
      "stream_tweets-20180119-111201.txt\n",
      "stream_tweets-20180119-144735.txt\n",
      "stream_tweets-20180119-185356.txt\n",
      "stream_tweets-20180119-222026.txt\n",
      "stream_tweets-20180120-011535.txt\n",
      "stream_tweets-20180120-041305.txt\n",
      "stream_tweets-20180120-071222.txt\n",
      "stream_tweets-20180120-101941.txt\n",
      "stream_tweets-20180120-133423.txt\n",
      "stream_tweets-20180120-175916.txt\n",
      "stream_tweets-20180120-215052.txt\n",
      "stream_tweets-20180121-005232.txt\n",
      "stream_tweets-20180121-035419.txt\n",
      "stream_tweets-20180121-072044.txt\n",
      "stream_tweets-20180121-102514.txt\n",
      "stream_tweets-20180121-131027.txt\n",
      "stream_tweets-20180121-161954.txt\n",
      "stream_tweets-20180121-205047.txt\n",
      "stream_tweets-20180121-232555.txt\n",
      "stream_tweets-20180122-013905.txt\n",
      "stream_tweets-20180122-042215.txt\n",
      "stream_tweets-20180122-072604.txt\n",
      "stream_tweets-20180122-105354.txt\n",
      "stream_tweets-20180122-152146.txt\n",
      "stream_tweets-20180122-200214.txt\n",
      "stream_tweets-20180122-222806.txt\n",
      "stream_tweets-20180123-013755.txt\n",
      "stream_tweets-20180123-050450.txt\n",
      "stream_tweets-20180123-090408.txt\n",
      "stream_tweets-20180123-132009.txt\n",
      "stream_tweets-20180123-184521.txt\n",
      "stream_tweets-20180123-213652.txt\n",
      "stream_tweets-20180123-233735.txt\n",
      "stream_tweets-20180124-011342.txt\n",
      "stream_tweets-20180124-033945.txt\n",
      "stream_tweets-20180124-060802.txt\n",
      "stream_tweets-20180124-081053.txt\n",
      "stream_tweets-20180124-105015.txt\n",
      "stream_tweets-20180124-141338.txt\n",
      "stream_tweets-20180124-175559.txt\n",
      "stream_tweets-20180124-204259.txt\n",
      "stream_tweets-20180124-232037.txt\n",
      "stream_tweets-20180125-014448.txt\n",
      "stream_tweets-20180125-045724.txt\n",
      "stream_tweets-20180125-083313.txt\n",
      "stream_tweets-20180125-112608.txt\n",
      "stream_tweets-20180125-151717.txt\n",
      "stream_tweets-20180125-191508.txt\n",
      "stream_tweets-20180125-220413.txt\n",
      "stream_tweets-20180125-234954.txt\n",
      "stream_tweets-20180126-024226.txt\n",
      "stream_tweets-20180126-054245.txt\n",
      "stream_tweets-20180126-091203.txt\n",
      "stream_tweets-20180126-124530.txt\n",
      "stream_tweets-20180126-165715.txt\n",
      "stream_tweets-20180126-205702.txt\n",
      "stream_tweets-20180127-002059.txt\n",
      "stream_tweets-20180127-034928.txt\n",
      "stream_tweets-20180127-074618.txt\n",
      "stream_tweets-20180127-112520.txt\n",
      "stream_tweets-20180127-161837.txt\n",
      "stream_tweets-20180127-203939.txt\n",
      "stream_tweets-20180127-232659.txt\n",
      "stream_tweets-20180128-024829.txt\n",
      "stream_tweets-20180128-063150.txt\n",
      "stream_tweets-20180128-103722.txt\n",
      "stream_tweets-20180128-152002.txt\n",
      "stream_tweets-20180128-180952.txt\n",
      "stream_tweets-20180128-205308.txt\n",
      "stream_tweets-20180128-224540.txt\n",
      "stream_tweets-20180128-235029.txt\n",
      "stream_tweets-20180129-013352.txt\n",
      "stream_tweets-20180129-035709.txt\n",
      "stream_tweets-20180129-070349.txt\n",
      "stream_tweets-20180129-100839.txt\n",
      "stream_tweets-20180129-131939.txt\n",
      "stream_tweets-20180129-180009.txt\n",
      "stream_tweets-20180129-220400.txt\n",
      "stream_tweets-20180130-014036.txt\n",
      "stream_tweets-20180130-052610.txt\n",
      "stream_tweets-20180130-093404.txt\n",
      "stream_tweets-20180130-144638.txt\n",
      "stream_tweets-20180130-194603.txt\n",
      "stream_tweets-20180130-234423.txt\n",
      "stream_tweets-20180131-031954.txt\n",
      "stream_tweets-20180131-065554.txt\n",
      "stream_tweets-20180131-110208.txt\n",
      "stream_tweets-20180131-150108.txt\n",
      "stream_tweets-20180131-202412.txt\n",
      "stream_tweets-20180131-235116.txt\n",
      "stream_tweets-20180201-025937.txt\n",
      "stream_tweets-20180201-062545.txt\n",
      "stream_tweets-20180201-103454.txt\n",
      "stream_tweets-20180201-150641.txt\n",
      "stream_tweets-20180201-195106.txt\n",
      "stream_tweets-20180201-232408.txt\n",
      "stream_tweets-20180202-024134.txt\n",
      "stream_tweets-20180202-063136.txt\n",
      "stream_tweets-20180202-102744.txt\n",
      "stream_tweets-20180202-144824.txt\n",
      "stream_tweets-20180202-182600.txt\n",
      "stream_tweets-20180202-214454.txt\n",
      "stream_tweets-20180202-234506.txt\n",
      "stream_tweets-20180203-021319.txt\n",
      "stream_tweets-20180203-052701.txt\n",
      "stream_tweets-20180203-091412.txt\n",
      "stream_tweets-20180203-131643.txt\n",
      "stream_tweets-20180203-175508.txt\n",
      "stream_tweets-20180203-210428.txt\n",
      "stream_tweets-20180203-235152.txt\n",
      "stream_tweets-20180204-025604.txt\n",
      "stream_tweets-20180204-065857.txt\n",
      "stream_tweets-20180204-111946.txt\n",
      "stream_tweets-20180204-160441.txt\n",
      "stream_tweets-20180204-204624.txt\n",
      "stream_tweets-20180204-234221.txt\n",
      "stream_tweets-20180205-025525.txt\n",
      "stream_tweets-20180205-065757.txt\n",
      "stream_tweets-20180205-103649.txt\n",
      "stream_tweets-20180205-142627.txt\n",
      "stream_tweets-20180205-185607.txt\n",
      "stream_tweets-20180205-213313.txt\n",
      "stream_tweets-20180206-000420.txt\n",
      "stream_tweets-20180206-024719.txt\n",
      "stream_tweets-20180206-063844.txt\n",
      "stream_tweets-20180206-105640.txt\n",
      "stream_tweets-20180206-140802.txt\n",
      "stream_tweets-20180206-185612.txt\n"
     ]
    },
    {
     "name": "stdout",
     "output_type": "stream",
     "text": [
      "stream_tweets-20180206-224624.txt\n",
      "stream_tweets-20180207-012124.txt\n",
      "stream_tweets-20180207-043435.txt\n",
      "stream_tweets-20180207-083519.txt\n",
      "stream_tweets-20180207-124925.txt\n",
      "stream_tweets-20180207-181843.txt\n",
      "stream_tweets-20180207-213348.txt\n",
      "stream_tweets-20180208-004258.txt\n",
      "stream_tweets-20180208-042446.txt\n",
      "stream_tweets-20180208-080212.txt\n",
      "stream_tweets-20180208-112505.txt\n",
      "stream_tweets-20180208-160720.txt\n",
      "stream_tweets-20180208-204621.txt\n",
      "stream_tweets-20180208-231035.txt\n",
      "stream_tweets-20180209-022459.txt\n",
      "stream_tweets-20180209-062021.txt\n",
      "stream_tweets-20180209-095859.txt\n",
      "stream_tweets-20180209-143859.txt\n",
      "stream_tweets-20180209-200243.txt\n",
      "stream_tweets-20180209-234832.txt\n",
      "stream_tweets-20180210-035302.txt\n",
      "stream_tweets-20180210-075849.txt\n",
      "stream_tweets-20180210-115906.txt\n",
      "stream_tweets-20180210-170811.txt\n",
      "stream_tweets-20180210-215029.txt\n",
      "stream_tweets-20180211-011950.txt\n",
      "stream_tweets-20180211-050730.txt\n",
      "stream_tweets-20180211-090014.txt\n",
      "stream_tweets-20180211-123517.txt\n",
      "stream_tweets-20180211-181255.txt\n",
      "stream_tweets-20180211-224453.txt\n",
      "stream_tweets-20180212-025038.txt\n",
      "stream_tweets-20180212-072331.txt\n",
      "stream_tweets-20180212-121614.txt\n",
      "stream_tweets-20180212-184030.txt\n",
      "stream_tweets-20180212-230131.txt\n",
      "stream_tweets-20180213-005331.txt\n",
      "stream_tweets-20180213-042318.txt\n",
      "stream_tweets-20180213-084823.txt\n",
      "stream_tweets-20180213-130209.txt\n",
      "stream_tweets-20180213-183102.txt\n",
      "stream_tweets-20180213-224526.txt\n",
      "stream_tweets-20180214-023159.txt\n",
      "stream_tweets-20180214-064059.txt\n",
      "stream_tweets-20180214-111427.txt\n",
      "stream_tweets-20180214-160832.txt\n",
      "stream_tweets-20180214-205641.txt\n",
      "stream_tweets-20180215-002236.txt\n",
      "stream_tweets-20180215-035523.txt\n",
      "stream_tweets-20180215-082858.txt\n",
      "stream_tweets-20180215-131522.txt\n",
      "stream_tweets-20180215-165349.txt\n",
      "stream_tweets-20180215-210037.txt\n",
      "stream_tweets-20180216-000228.txt\n",
      "stream_tweets-20180216-031136.txt\n",
      "stream_tweets-20180216-070326.txt\n",
      "stream_tweets-20180216-105331.txt\n",
      "stream_tweets-20180216-150643.txt\n",
      "stream_tweets-20180216-200110.txt\n",
      "stream_tweets-20180216-231301.txt\n",
      "stream_tweets-20180217-022940.txt\n",
      "stream_tweets-20180217-064109.txt\n",
      "stream_tweets-20180217-110800.txt\n",
      "stream_tweets-20180217-153057.txt\n",
      "stream_tweets-20180217-200140.txt\n",
      "stream_tweets-20180217-232000.txt\n",
      "stream_tweets-20180218-022750.txt\n",
      "stream_tweets-20180218-062638.txt\n",
      "stream_tweets-20180218-105048.txt\n",
      "stream_tweets-20180218-151853.txt\n",
      "stream_tweets-20180218-193744.txt\n",
      "stream_tweets-20180218-224406.txt\n",
      "stream_tweets-20180219-015212.txt\n",
      "stream_tweets-20180219-050738.txt\n",
      "stream_tweets-20180219-090116.txt\n"
     ]
    }
   ],
   "source": [
    "#hts_ts_list\n",
    "\n",
    "import json\n",
    "import pandas as pd\n",
    "import numpy as np\n",
    "from datetime import datetime\n",
    "from os import listdir\n",
    "from os.path import isfile, join\n",
    "    \n",
    "def main():\n",
    "    mypath = 'data/tweets/'\n",
    "    onlyfiles = [f for f in listdir(mypath) if isfile(join(mypath, f))]\n",
    "    word_to_cluster = {}\n",
    "    cluster = {}\n",
    "    with open('clusterfyp_withpca_optimised.txt') as f:\n",
    "        for l in f:\n",
    "            lt = json.loads(l)\n",
    "            for c in lt:\n",
    "                c0 = c[0].strip()\n",
    "                c1 = c[1].strip()\n",
    "                c2 = c[2].strip()\n",
    "                cluster_id = c0 + c1 + c2\n",
    "                word_to_cluster[c0] = cluster_id\n",
    "                word_to_cluster[c1] = cluster_id\n",
    "                word_to_cluster[c2] = cluster_id\n",
    "                cluster[cluster_id] = {}\n",
    "                cluster[cluster_id]['words'] = c\n",
    "            break\n",
    "    \n",
    "    print(word_to_cluster)\n",
    "    cluster_ts_list = {}\n",
    "    for fpath in onlyfiles:\n",
    "        with open(mypath+fpath) as inputF:\n",
    "            print(fpath)\n",
    "            for line_index, line in enumerate(inputF):\n",
    "                tweet = json.loads(line)\n",
    "                words_in_text = tweet['text'].lower().split()\n",
    "                for w in words_in_text:\n",
    "                    if w not in word_to_cluster:\n",
    "                        continue\n",
    "                    cluster_id = word_to_cluster[w]\n",
    "                    if cluster_id not in cluster_ts_list:\n",
    "                        cluster_ts_list[cluster_id] = {}\n",
    "                        cluster_ts_list[cluster_id]['words'] = cluster[cluster_id]['words']\n",
    "                        cluster_ts_list[cluster_id]['ts'] = []\n",
    "                    tweet_time = datetime.strptime(tweet['created_at'], '%a %b %d %H:%M:%S +0000 %Y')\n",
    "                    tt = tweet_time.strftime(\"%Y%m%d-%H%M%S\")\n",
    "                    cluster_ts_list[cluster_id]['ts'].append(tt)\n",
    "                    break\n",
    "                    \n",
    "    with open('clusterfyp_withpca_optimised_ts_list_new','a') as f:\n",
    "        for k,v in cluster_ts_list.items():\n",
    "            f.write(json.dumps([k,v['words'],v['ts']])+'\\n')\n",
    "                    \n",
    "                    \n",
    "if __name__ == '__main__':\n",
    "    main()\n",
    "        "
   ]
  },
  {
   "cell_type": "code",
   "execution_count": 8,
   "metadata": {},
   "outputs": [
    {
     "name": "stdout",
     "output_type": "stream",
     "text": [
      "#knowyourvideort황민현\n",
      "#designcozygarden\n",
      "#developer황민현friends\n",
      "#방탄소년단jiminbts\n",
      "#snapchatinktober2017day\n",
      "#theskimm황민현giveaway\n",
      "#beatsmusichiphop\n",
      "#theskimmiphoneapp\n",
      "#hookupdatingsex\n",
      "#fitnesshealthups\n",
      "#farwelloliviertime\n",
      "#yasss황민현heathrow\n",
      "#cuteexosignup\n",
      "#sexycamadultwebcamdate\n",
      "#sport황민현giveaway\n",
      "#giveaways8samsung\n",
      "#xxxsexporn\n",
      "#bossolivierfarwellfindom\n",
      "#silverfollowmebisexual\n",
      "#inktoberarthealthcare\n",
      "#twitchlivesupportsmallstreamers\n"
     ]
    },
    {
     "name": "stderr",
     "output_type": "stream",
     "text": [
      "c:\\users\\chiusing\\appdata\\local\\programs\\python\\python36-32\\lib\\site-packages\\matplotlib\\pyplot.py:528: RuntimeWarning: More than 20 figures have been opened. Figures created through the pyplot interface (`matplotlib.pyplot.figure`) are retained until explicitly closed and may consume too much memory. (To control this warning, see the rcParam `figure.max_open_warning`).\n",
      "  max_open_warning, RuntimeWarning)\n"
     ]
    },
    {
     "name": "stdout",
     "output_type": "stream",
     "text": [
      "#beattrap황민현\n",
      "#profitoctclassicseagulls\n",
      "#cumanalass\n",
      "#dietweightlossweight\n",
      "#socialmarketingtirolith\n",
      "#pussyasscock\n",
      "#founderworkingmoneymaker\n",
      "#thankslatest황민현\n",
      "#academicacademicjobsresearch\n",
      "#maciphone황민현\n",
      "#entrepreneursuccessenthusiast\n",
      "#traveljourneyofkoydaily\n",
      "#jobsapplysearchamerican\n",
      "#fashion황민현gl\n",
      "#nowplayingvandofficialthechewb\n",
      "#progrowthhackerstartgrowthhackgrowth\n",
      "#cockpeniscum\n",
      "#feelquotes_crownlove\n",
      "#womenenergydts\n",
      "#magarealdonaldtrumptrump\n",
      "#newreleasedaddysusaninlaguna\n",
      "#timeenergygiveaway\n",
      "#motivation황민현frontend\n",
      "#buymarketesupportad\n",
      "#rjrosel44gigsexy\n",
      "#sportsbetsfreebets\n",
      "#youtubermerchyoutubersproduct\n",
      "#gamegamingfavorite\n",
      "#googletricks1910황민현\n",
      "#instafashionheelsinstagramers\n",
      "#vintageoldschoolcoolretropics\n",
      "#maxnikeair\n",
      "#latelyjonlairdmusicnddwute6cv\n",
      "#comicscomicbooksfx_digital\n",
      "#inspirationquotedeveloper\n",
      "#beer황민현heathrow\n",
      "#uxuiwebsite\n",
      "#tweet황민현gl\n",
      "#shoesshoeporninstafashion\n",
      "#startupindiaextra\n",
      "#airportheathrowheathrowshuttle\n",
      "#titsboobssex\n",
      "#solarenergythanks\n",
      "#fashionvivantstylesstyle\n",
      "#mlmhomebusiness황민현\n",
      "#architecturedesignfrontend\n",
      "#tokyojapanjapon\n",
      "#불타오르네stand_by_btstrending\n",
      "#handmadestevieacciaioshoppershour\n",
      "#09iphoneginalimp\n",
      "#ebayretrogamingvgdealssega\n",
      "#foodrealhistorygifbible\n",
      "#scenerybeautywishing\n",
      "#etsypussyhorny\n",
      "#petregisterplscat\n",
      "#btcethcryptocurrency\n",
      "#ukdigital황민현\n",
      "#funnyvideosknowyourvideo\n",
      "#needfriendlover12\n",
      "#fribeatfootball\n",
      "#uaeemiratesahlanemarat\n",
      "#ethereumaigangico\n",
      "#wellbeingselftirolith\n",
      "#realestatezkaccessbiometrics\n",
      "#dogpetregistermissing\n",
      "#javascriptgoogletricks19황민현\n",
      "#sustainabilitygabriel_greltegl\n",
      "#hotdaddykindleunlimited\n",
      "#photographywishingunivercentrix\n",
      "#cybersecuritysecurityinfosec\n",
      "#romancekindlekindleunlimited\n",
      "#extremelydailythanks\n",
      "#helpinglostpetshairdomestic\n",
      "#elephantsteagoodearthtea\n",
      "#cloud황민현gl\n",
      "#photoofthedayhairnails\n",
      "#dailythankslatest\n",
      "#healthcaredigitalhealthinnovation\n",
      "#lifestlyefreedom6figures\n",
      "#actresssuspenserickydstahl\n",
      "#frontendjsdeveloper\n",
      "#summercampstemgamification\n",
      "#cryptobitcoincryptocurrency\n",
      "#marijuanaweedhemp\n",
      "#hiring황민현gl\n",
      "#amwritingfictionasmsg\n",
      "#lipslisulsee88p0yjtajjgp\n",
      "#fantasycalindab1황민현\n",
      "#sharesupportsmallstreamers황민현\n",
      "#careerjobs황민현\n",
      "#summercampstembtc\n",
      "#mufcheathrowfunny\n",
      "#magazinemoneymakercharlesmilander\n",
      "#racingthankslatest\n",
      "#blockchainazilinonscloud\n",
      "#defstar5seodigitalmarketing\n",
      "#w4qb07jolsmendy황민현\n",
      "#niku477021262waterfallsnature\n",
      "#stylephotoofthedaymaxvaluestore\n",
      "#npheathrowfunnyvideos\n",
      "#lt황민현gl\n",
      "#chattipnsfw\n",
      "#mixgamificationschoolgamed\n",
      "#aiazilinonscloud\n",
      "#streetartmuralgraffiti\n",
      "#mhealthstartupgamification\n",
      "#exolivecamsignup\n",
      "#classicseagullspainting황민현\n",
      "#mental황민현frontend\n",
      "#decorationsoapinterior\n",
      "#homemadetrufflesswine\n",
      "#daddynewreleasegt\n",
      "#autumn황민현heathrow\n",
      "#황민현estnu\n",
      "#workfromhomeselftirolith\n",
      "#property황민현gl\n",
      "#trufflesswineedward\n",
      "#goddessglfunnyvideos\n",
      "#랩몬스터rapmonsterbts_twt\n",
      "#갓새븐got7officialyouare\n",
      "#4gsatelitewwan\n",
      "#slimmingslimandshapeupwaisttrainer\n",
      "#transexualshemale황민현\n",
      "#랩몬남준rm\n",
      "#bingoracingpoker\n",
      "#boobspussyhot\n",
      "#jewelryjewelryfinessebirthstone\n",
      "#rememberslisulsee88p0yjtajjgp\n",
      "#joshuapaulshowfindomfemdom\n",
      "#youtuberyoutubermerchukproduct\n",
      "#diygardencozy\n",
      "#motivationinspiration황민현\n",
      "#민현황민현est\n",
      "#fiverrfilteringgoddess\n",
      "#tcotlibertyfreedom\n",
      "#artstreetartiut2fdsmmu\n",
      "#dxbemiratesahlanemarat\n",
      "#rjrosel44gigfootfetish\n",
      "#decorcozygarden\n",
      "#갓세븐7for7youare\n",
      "#handmadeetsystevieacciaio\n",
      "#jokeshumorfunnyvideos\n",
      "#3g4gwlan\n",
      "#marijuanacannabisweed\n",
      "#socialmediasocialfx_digital\n",
      "#interiordesignsoapinterior\n",
      "#lifestlyemakemoneygl\n",
      "#kikipawgkikistylish\n",
      "#coop황민현giveaway\n",
      "#indiedevgamedev황민현\n",
      "#mysex3sometricked\n",
      "#edmnerdjunkietwtr\n",
      "#trannytstransexual\n",
      "#beskotwaibigdata\n",
      "#paypigfindom황민현\n",
      "#lavalordzrapmusicgirlstwerking\n",
      "#마이크드랍bts_antfiltering\n",
      "#uxuiseo\n",
      "#aibestsellerhotwantcolin\n",
      "#황민현glfunnyvideos\n",
      "#ukfinestfeetmariefetishfootworship\n",
      "#homedecorinteriordesigngiveaway\n",
      "#freebetbingopoker\n",
      "#camswebcammodelsexyfreecamshow\n",
      "#friedman_philbebeesearchamerican\n",
      "#강다니엘워너원wannaone\n",
      "#bynrmg_leadershipasmsg\n",
      "#craftshoutepiconetsystevieacciaio\n",
      "#shemaletrannytgirl\n",
      "#mysexsistersexfreeborn\n",
      "#王様のブランチhappytimeカナやん\n",
      "#asmsgiartgmg_leadership\n",
      "#defstar5seogrowthhacking\n",
      "#sportssportsbettingbets\n",
      "#shortlist황민현giveaway\n",
      "#digitalhealthhealthcaremhealth\n",
      "#footfetishfootworshipdirtysoles\n",
      "#꽃갈피둘아이유꽃갈피\n",
      "#mama_피드백_요구마마야p드백해마마자니\n",
      "#freebetsbookiebashingbets\n",
      "#footballcoprepsrockyprep\n",
      "#mufc진영ivyclub\n",
      "#王嘉爾유겸영재\n",
      "#urbanartdominicvonbernntiiagjmaf\n"
     ]
    },
    {
     "data": {
      "text/plain": [
       "<matplotlib.figure.Figure at 0xd7e9a50>"
      ]
     },
     "metadata": {},
     "output_type": "display_data"
    },
    {
     "data": {
      "text/plain": [
       "<matplotlib.figure.Figure at 0x136e8a70>"
      ]
     },
     "metadata": {},
     "output_type": "display_data"
    },
    {
     "data": {
      "text/plain": [
       "<matplotlib.figure.Figure at 0x6c394cd0>"
      ]
     },
     "metadata": {},
     "output_type": "display_data"
    },
    {
     "data": {
      "text/plain": [
       "<matplotlib.figure.Figure at 0x1415a7b0>"
      ]
     },
     "metadata": {},
     "output_type": "display_data"
    },
    {
     "data": {
      "text/plain": [
       "<matplotlib.figure.Figure at 0x6c394370>"
      ]
     },
     "metadata": {},
     "output_type": "display_data"
    },
    {
     "data": {
      "text/plain": [
       "<matplotlib.figure.Figure at 0x2b87e290>"
      ]
     },
     "metadata": {},
     "output_type": "display_data"
    },
    {
     "data": {
      "text/plain": [
       "<matplotlib.figure.Figure at 0x14262db0>"
      ]
     },
     "metadata": {},
     "output_type": "display_data"
    },
    {
     "data": {
      "text/plain": [
       "<matplotlib.figure.Figure at 0x7c5eab0>"
      ]
     },
     "metadata": {},
     "output_type": "display_data"
    },
    {
     "data": {
      "text/plain": [
       "<matplotlib.figure.Figure at 0x14122ad0>"
      ]
     },
     "metadata": {},
     "output_type": "display_data"
    },
    {
     "data": {
      "text/plain": [
       "<matplotlib.figure.Figure at 0x169744d0>"
      ]
     },
     "metadata": {},
     "output_type": "display_data"
    },
    {
     "data": {
      "text/plain": [
       "<matplotlib.figure.Figure at 0x6c38fa10>"
      ]
     },
     "metadata": {},
     "output_type": "display_data"
    },
    {
     "data": {
      "text/plain": [
       "<matplotlib.figure.Figure at 0x14049130>"
      ]
     },
     "metadata": {},
     "output_type": "display_data"
    },
    {
     "data": {
      "text/plain": [
       "<matplotlib.figure.Figure at 0x2b8188b0>"
      ]
     },
     "metadata": {},
     "output_type": "display_data"
    },
    {
     "data": {
      "text/plain": [
       "<matplotlib.figure.Figure at 0x169bdd30>"
      ]
     },
     "metadata": {},
     "output_type": "display_data"
    },
    {
     "data": {
      "text/plain": [
       "<matplotlib.figure.Figure at 0x7c7d370>"
      ]
     },
     "metadata": {},
     "output_type": "display_data"
    },
    {
     "data": {
      "text/plain": [
       "<matplotlib.figure.Figure at 0x18939230>"
      ]
     },
     "metadata": {},
     "output_type": "display_data"
    },
    {
     "data": {
      "text/plain": [
       "<matplotlib.figure.Figure at 0x7d547f0>"
      ]
     },
     "metadata": {},
     "output_type": "display_data"
    },
    {
     "data": {
      "text/plain": [
       "<matplotlib.figure.Figure at 0xd7e91b0>"
      ]
     },
     "metadata": {},
     "output_type": "display_data"
    },
    {
     "data": {
      "text/plain": [
       "<matplotlib.figure.Figure at 0x2bb11810>"
      ]
     },
     "metadata": {},
     "output_type": "display_data"
    },
    {
     "data": {
      "text/plain": [
       "<matplotlib.figure.Figure at 0x16e20c50>"
      ]
     },
     "metadata": {},
     "output_type": "display_data"
    },
    {
     "data": {
      "text/plain": [
       "<matplotlib.figure.Figure at 0x169b4f10>"
      ]
     },
     "metadata": {},
     "output_type": "display_data"
    },
    {
     "data": {
      "text/plain": [
       "<matplotlib.figure.Figure at 0x6c36e7b0>"
      ]
     },
     "metadata": {},
     "output_type": "display_data"
    },
    {
     "data": {
      "text/plain": [
       "<matplotlib.figure.Figure at 0x2b818850>"
      ]
     },
     "metadata": {},
     "output_type": "display_data"
    },
    {
     "data": {
      "text/plain": [
       "<matplotlib.figure.Figure at 0x23cb8a70>"
      ]
     },
     "metadata": {},
     "output_type": "display_data"
    },
    {
     "data": {
      "text/plain": [
       "<matplotlib.figure.Figure at 0x2b818750>"
      ]
     },
     "metadata": {},
     "output_type": "display_data"
    },
    {
     "data": {
      "text/plain": [
       "<matplotlib.figure.Figure at 0x23ca4070>"
      ]
     },
     "metadata": {},
     "output_type": "display_data"
    },
    {
     "data": {
      "text/plain": [
       "<matplotlib.figure.Figure at 0x1403d270>"
      ]
     },
     "metadata": {},
     "output_type": "display_data"
    },
    {
     "data": {
      "text/plain": [
       "<matplotlib.figure.Figure at 0x1403dab0>"
      ]
     },
     "metadata": {},
     "output_type": "display_data"
    },
    {
     "data": {
      "text/plain": [
       "<matplotlib.figure.Figure at 0x7c5e750>"
      ]
     },
     "metadata": {},
     "output_type": "display_data"
    },
    {
     "data": {
      "text/plain": [
       "<matplotlib.figure.Figure at 0x6c365fd0>"
      ]
     },
     "metadata": {},
     "output_type": "display_data"
    },
    {
     "data": {
      "text/plain": [
       "<matplotlib.figure.Figure at 0x2b87e5d0>"
      ]
     },
     "metadata": {},
     "output_type": "display_data"
    },
    {
     "data": {
      "text/plain": [
       "<matplotlib.figure.Figure at 0x14038190>"
      ]
     },
     "metadata": {},
     "output_type": "display_data"
    },
    {
     "data": {
      "text/plain": [
       "<matplotlib.figure.Figure at 0x16ec1890>"
      ]
     },
     "metadata": {},
     "output_type": "display_data"
    },
    {
     "data": {
      "text/plain": [
       "<matplotlib.figure.Figure at 0x14013490>"
      ]
     },
     "metadata": {},
     "output_type": "display_data"
    },
    {
     "data": {
      "text/plain": [
       "<matplotlib.figure.Figure at 0x2b5e0130>"
      ]
     },
     "metadata": {},
     "output_type": "display_data"
    },
    {
     "data": {
      "text/plain": [
       "<matplotlib.figure.Figure at 0x140338f0>"
      ]
     },
     "metadata": {},
     "output_type": "display_data"
    },
    {
     "data": {
      "text/plain": [
       "<matplotlib.figure.Figure at 0x14033270>"
      ]
     },
     "metadata": {},
     "output_type": "display_data"
    },
    {
     "data": {
      "text/plain": [
       "<matplotlib.figure.Figure at 0x14038f10>"
      ]
     },
     "metadata": {},
     "output_type": "display_data"
    },
    {
     "data": {
      "text/plain": [
       "<matplotlib.figure.Figure at 0x1403c190>"
      ]
     },
     "metadata": {},
     "output_type": "display_data"
    },
    {
     "data": {
      "text/plain": [
       "<matplotlib.figure.Figure at 0x23cb88b0>"
      ]
     },
     "metadata": {},
     "output_type": "display_data"
    },
    {
     "data": {
      "text/plain": [
       "<matplotlib.figure.Figure at 0x1891ebf0>"
      ]
     },
     "metadata": {},
     "output_type": "display_data"
    },
    {
     "data": {
      "text/plain": [
       "<matplotlib.figure.Figure at 0x7cbfe90>"
      ]
     },
     "metadata": {},
     "output_type": "display_data"
    },
    {
     "data": {
      "text/plain": [
       "<matplotlib.figure.Figure at 0x2b87e350>"
      ]
     },
     "metadata": {},
     "output_type": "display_data"
    },
    {
     "data": {
      "text/plain": [
       "<matplotlib.figure.Figure at 0x2b87ea50>"
      ]
     },
     "metadata": {},
     "output_type": "display_data"
    },
    {
     "data": {
      "text/plain": [
       "<matplotlib.figure.Figure at 0x16a84c70>"
      ]
     },
     "metadata": {},
     "output_type": "display_data"
    },
    {
     "data": {
      "text/plain": [
       "<matplotlib.figure.Figure at 0x16a4ee90>"
      ]
     },
     "metadata": {},
     "output_type": "display_data"
    },
    {
     "data": {
      "text/plain": [
       "<matplotlib.figure.Figure at 0x14124770>"
      ]
     },
     "metadata": {},
     "output_type": "display_data"
    },
    {
     "data": {
      "text/plain": [
       "<matplotlib.figure.Figure at 0x14045950>"
      ]
     },
     "metadata": {},
     "output_type": "display_data"
    },
    {
     "data": {
      "text/plain": [
       "<matplotlib.figure.Figure at 0x14124710>"
      ]
     },
     "metadata": {},
     "output_type": "display_data"
    },
    {
     "data": {
      "text/plain": [
       "<matplotlib.figure.Figure at 0x7e763f0>"
      ]
     },
     "metadata": {},
     "output_type": "display_data"
    },
    {
     "data": {
      "text/plain": [
       "<matplotlib.figure.Figure at 0x2c382c30>"
      ]
     },
     "metadata": {},
     "output_type": "display_data"
    },
    {
     "data": {
      "text/plain": [
       "<matplotlib.figure.Figure at 0x7c240f0>"
      ]
     },
     "metadata": {},
     "output_type": "display_data"
    },
    {
     "data": {
      "text/plain": [
       "<matplotlib.figure.Figure at 0x166b3b30>"
      ]
     },
     "metadata": {},
     "output_type": "display_data"
    },
    {
     "data": {
      "text/plain": [
       "<matplotlib.figure.Figure at 0x7cc9610>"
      ]
     },
     "metadata": {},
     "output_type": "display_data"
    },
    {
     "data": {
      "text/plain": [
       "<matplotlib.figure.Figure at 0x2b877650>"
      ]
     },
     "metadata": {},
     "output_type": "display_data"
    },
    {
     "data": {
      "text/plain": [
       "<matplotlib.figure.Figure at 0x145f4930>"
      ]
     },
     "metadata": {},
     "output_type": "display_data"
    },
    {
     "data": {
      "text/plain": [
       "<matplotlib.figure.Figure at 0x166bf4d0>"
      ]
     },
     "metadata": {},
     "output_type": "display_data"
    },
    {
     "data": {
      "text/plain": [
       "<matplotlib.figure.Figure at 0x1403f710>"
      ]
     },
     "metadata": {},
     "output_type": "display_data"
    },
    {
     "data": {
      "text/plain": [
       "<matplotlib.figure.Figure at 0x14425810>"
      ]
     },
     "metadata": {},
     "output_type": "display_data"
    },
    {
     "data": {
      "text/plain": [
       "<matplotlib.figure.Figure at 0x2b868970>"
      ]
     },
     "metadata": {},
     "output_type": "display_data"
    },
    {
     "data": {
      "text/plain": [
       "<matplotlib.figure.Figure at 0x52b6030>"
      ]
     },
     "metadata": {},
     "output_type": "display_data"
    },
    {
     "data": {
      "text/plain": [
       "<matplotlib.figure.Figure at 0x16f00590>"
      ]
     },
     "metadata": {},
     "output_type": "display_data"
    },
    {
     "data": {
      "text/plain": [
       "<matplotlib.figure.Figure at 0x16a2c6f0>"
      ]
     },
     "metadata": {},
     "output_type": "display_data"
    },
    {
     "data": {
      "text/plain": [
       "<matplotlib.figure.Figure at 0x2b868890>"
      ]
     },
     "metadata": {},
     "output_type": "display_data"
    },
    {
     "data": {
      "text/plain": [
       "<matplotlib.figure.Figure at 0x2b8774b0>"
      ]
     },
     "metadata": {},
     "output_type": "display_data"
    },
    {
     "data": {
      "text/plain": [
       "<matplotlib.figure.Figure at 0x6c0fb870>"
      ]
     },
     "metadata": {},
     "output_type": "display_data"
    },
    {
     "data": {
      "text/plain": [
       "<matplotlib.figure.Figure at 0x2b5e7090>"
      ]
     },
     "metadata": {},
     "output_type": "display_data"
    },
    {
     "data": {
      "text/plain": [
       "<matplotlib.figure.Figure at 0x7d53410>"
      ]
     },
     "metadata": {},
     "output_type": "display_data"
    },
    {
     "data": {
      "text/plain": [
       "<matplotlib.figure.Figure at 0x7d53e70>"
      ]
     },
     "metadata": {},
     "output_type": "display_data"
    },
    {
     "data": {
      "text/plain": [
       "<matplotlib.figure.Figure at 0x14023170>"
      ]
     },
     "metadata": {},
     "output_type": "display_data"
    },
    {
     "data": {
      "text/plain": [
       "<matplotlib.figure.Figure at 0x14023270>"
      ]
     },
     "metadata": {},
     "output_type": "display_data"
    },
    {
     "data": {
      "text/plain": [
       "<matplotlib.figure.Figure at 0x14013b30>"
      ]
     },
     "metadata": {},
     "output_type": "display_data"
    },
    {
     "data": {
      "text/plain": [
       "<matplotlib.figure.Figure at 0x1891ee50>"
      ]
     },
     "metadata": {},
     "output_type": "display_data"
    },
    {
     "data": {
      "text/plain": [
       "<matplotlib.figure.Figure at 0x2b86d3d0>"
      ]
     },
     "metadata": {},
     "output_type": "display_data"
    },
    {
     "data": {
      "text/plain": [
       "<matplotlib.figure.Figure at 0x2b808750>"
      ]
     },
     "metadata": {},
     "output_type": "display_data"
    },
    {
     "data": {
      "text/plain": [
       "<matplotlib.figure.Figure at 0x14188d70>"
      ]
     },
     "metadata": {},
     "output_type": "display_data"
    },
    {
     "data": {
      "text/plain": [
       "<matplotlib.figure.Figure at 0x2c1f15d0>"
      ]
     },
     "metadata": {},
     "output_type": "display_data"
    },
    {
     "data": {
      "text/plain": [
       "<matplotlib.figure.Figure at 0x2c5d79b0>"
      ]
     },
     "metadata": {},
     "output_type": "display_data"
    },
    {
     "data": {
      "text/plain": [
       "<matplotlib.figure.Figure at 0x142a9810>"
      ]
     },
     "metadata": {},
     "output_type": "display_data"
    },
    {
     "data": {
      "text/plain": [
       "<matplotlib.figure.Figure at 0x16971330>"
      ]
     },
     "metadata": {},
     "output_type": "display_data"
    },
    {
     "data": {
      "text/plain": [
       "<matplotlib.figure.Figure at 0x142a9a90>"
      ]
     },
     "metadata": {},
     "output_type": "display_data"
    },
    {
     "data": {
      "text/plain": [
       "<matplotlib.figure.Figure at 0x2b5e07d0>"
      ]
     },
     "metadata": {},
     "output_type": "display_data"
    },
    {
     "data": {
      "text/plain": [
       "<matplotlib.figure.Figure at 0x16886230>"
      ]
     },
     "metadata": {},
     "output_type": "display_data"
    },
    {
     "data": {
      "text/plain": [
       "<matplotlib.figure.Figure at 0x16de46d0>"
      ]
     },
     "metadata": {},
     "output_type": "display_data"
    },
    {
     "data": {
      "text/plain": [
       "<matplotlib.figure.Figure at 0x16de4910>"
      ]
     },
     "metadata": {},
     "output_type": "display_data"
    },
    {
     "data": {
      "text/plain": [
       "<matplotlib.figure.Figure at 0x14004750>"
      ]
     },
     "metadata": {},
     "output_type": "display_data"
    },
    {
     "data": {
      "text/plain": [
       "<matplotlib.figure.Figure at 0x14004550>"
      ]
     },
     "metadata": {},
     "output_type": "display_data"
    },
    {
     "data": {
      "text/plain": [
       "<matplotlib.figure.Figure at 0x6bec9cb0>"
      ]
     },
     "metadata": {},
     "output_type": "display_data"
    },
    {
     "data": {
      "text/plain": [
       "<matplotlib.figure.Figure at 0x7dc0cb0>"
      ]
     },
     "metadata": {},
     "output_type": "display_data"
    },
    {
     "data": {
      "text/plain": [
       "<matplotlib.figure.Figure at 0x14004b70>"
      ]
     },
     "metadata": {},
     "output_type": "display_data"
    },
    {
     "data": {
      "text/plain": [
       "<matplotlib.figure.Figure at 0x16de4b10>"
      ]
     },
     "metadata": {},
     "output_type": "display_data"
    },
    {
     "data": {
      "text/plain": [
       "<matplotlib.figure.Figure at 0x6bec9210>"
      ]
     },
     "metadata": {},
     "output_type": "display_data"
    },
    {
     "data": {
      "text/plain": [
       "<matplotlib.figure.Figure at 0x6bec9db0>"
      ]
     },
     "metadata": {},
     "output_type": "display_data"
    },
    {
     "data": {
      "text/plain": [
       "<matplotlib.figure.Figure at 0x169712d0>"
      ]
     },
     "metadata": {},
     "output_type": "display_data"
    },
    {
     "data": {
      "text/plain": [
       "<matplotlib.figure.Figure at 0x169b4570>"
      ]
     },
     "metadata": {},
     "output_type": "display_data"
    },
    {
     "data": {
      "text/plain": [
       "<matplotlib.figure.Figure at 0x16886d30>"
      ]
     },
     "metadata": {},
     "output_type": "display_data"
    },
    {
     "data": {
      "text/plain": [
       "<matplotlib.figure.Figure at 0x16971b90>"
      ]
     },
     "metadata": {},
     "output_type": "display_data"
    },
    {
     "data": {
      "text/plain": [
       "<matplotlib.figure.Figure at 0x6c37cbd0>"
      ]
     },
     "metadata": {},
     "output_type": "display_data"
    },
    {
     "data": {
      "text/plain": [
       "<matplotlib.figure.Figure at 0x169bda50>"
      ]
     },
     "metadata": {},
     "output_type": "display_data"
    },
    {
     "data": {
      "text/plain": [
       "<matplotlib.figure.Figure at 0x2c1d48b0>"
      ]
     },
     "metadata": {},
     "output_type": "display_data"
    },
    {
     "data": {
      "text/plain": [
       "<matplotlib.figure.Figure at 0x2c1d4390>"
      ]
     },
     "metadata": {},
     "output_type": "display_data"
    },
    {
     "data": {
      "text/plain": [
       "<matplotlib.figure.Figure at 0x2c1d4fb0>"
      ]
     },
     "metadata": {},
     "output_type": "display_data"
    },
    {
     "data": {
      "text/plain": [
       "<matplotlib.figure.Figure at 0x2b60ea70>"
      ]
     },
     "metadata": {},
     "output_type": "display_data"
    },
    {
     "data": {
      "text/plain": [
       "<matplotlib.figure.Figure at 0x2c1d9d50>"
      ]
     },
     "metadata": {},
     "output_type": "display_data"
    },
    {
     "data": {
      "text/plain": [
       "<matplotlib.figure.Figure at 0x2c1d4930>"
      ]
     },
     "metadata": {},
     "output_type": "display_data"
    },
    {
     "data": {
      "text/plain": [
       "<matplotlib.figure.Figure at 0x2c1d9db0>"
      ]
     },
     "metadata": {},
     "output_type": "display_data"
    },
    {
     "data": {
      "text/plain": [
       "<matplotlib.figure.Figure at 0x1449f0b0>"
      ]
     },
     "metadata": {},
     "output_type": "display_data"
    },
    {
     "data": {
      "text/plain": [
       "<matplotlib.figure.Figure at 0x1449fe30>"
      ]
     },
     "metadata": {},
     "output_type": "display_data"
    },
    {
     "data": {
      "text/plain": [
       "<matplotlib.figure.Figure at 0x2c1d4150>"
      ]
     },
     "metadata": {},
     "output_type": "display_data"
    },
    {
     "data": {
      "text/plain": [
       "<matplotlib.figure.Figure at 0x2c1d4970>"
      ]
     },
     "metadata": {},
     "output_type": "display_data"
    },
    {
     "data": {
      "text/plain": [
       "<matplotlib.figure.Figure at 0x14262490>"
      ]
     },
     "metadata": {},
     "output_type": "display_data"
    },
    {
     "data": {
      "text/plain": [
       "<matplotlib.figure.Figure at 0x14607810>"
      ]
     },
     "metadata": {},
     "output_type": "display_data"
    },
    {
     "data": {
      "text/plain": [
       "<matplotlib.figure.Figure at 0x2b5e7610>"
      ]
     },
     "metadata": {},
     "output_type": "display_data"
    },
    {
     "data": {
      "text/plain": [
       "<matplotlib.figure.Figure at 0x14262ad0>"
      ]
     },
     "metadata": {},
     "output_type": "display_data"
    },
    {
     "data": {
      "text/plain": [
       "<matplotlib.figure.Figure at 0x2b5e7110>"
      ]
     },
     "metadata": {},
     "output_type": "display_data"
    },
    {
     "data": {
      "text/plain": [
       "<matplotlib.figure.Figure at 0x23cb0150>"
      ]
     },
     "metadata": {},
     "output_type": "display_data"
    },
    {
     "data": {
      "text/plain": [
       "<matplotlib.figure.Figure at 0x14055c30>"
      ]
     },
     "metadata": {},
     "output_type": "display_data"
    },
    {
     "data": {
      "text/plain": [
       "<matplotlib.figure.Figure at 0x2c1d97d0>"
      ]
     },
     "metadata": {},
     "output_type": "display_data"
    },
    {
     "data": {
      "text/plain": [
       "<matplotlib.figure.Figure at 0x2c1d48f0>"
      ]
     },
     "metadata": {},
     "output_type": "display_data"
    },
    {
     "data": {
      "text/plain": [
       "<matplotlib.figure.Figure at 0x23cb8a50>"
      ]
     },
     "metadata": {},
     "output_type": "display_data"
    },
    {
     "data": {
      "text/plain": [
       "<matplotlib.figure.Figure at 0x23cb8830>"
      ]
     },
     "metadata": {},
     "output_type": "display_data"
    },
    {
     "data": {
      "text/plain": [
       "<matplotlib.figure.Figure at 0x2c1d92b0>"
      ]
     },
     "metadata": {},
     "output_type": "display_data"
    },
    {
     "data": {
      "text/plain": [
       "<matplotlib.figure.Figure at 0x2c5beeb0>"
      ]
     },
     "metadata": {},
     "output_type": "display_data"
    },
    {
     "data": {
      "text/plain": [
       "<matplotlib.figure.Figure at 0x1696c950>"
      ]
     },
     "metadata": {},
     "output_type": "display_data"
    },
    {
     "data": {
      "text/plain": [
       "<matplotlib.figure.Figure at 0x14262b30>"
      ]
     },
     "metadata": {},
     "output_type": "display_data"
    },
    {
     "data": {
      "text/plain": [
       "<matplotlib.figure.Figure at 0x23cb8950>"
      ]
     },
     "metadata": {},
     "output_type": "display_data"
    },
    {
     "data": {
      "text/plain": [
       "<matplotlib.figure.Figure at 0x23cb8b70>"
      ]
     },
     "metadata": {},
     "output_type": "display_data"
    },
    {
     "data": {
      "text/plain": [
       "<matplotlib.figure.Figure at 0x14262370>"
      ]
     },
     "metadata": {},
     "output_type": "display_data"
    },
    {
     "data": {
      "text/plain": [
       "<matplotlib.figure.Figure at 0x14262090>"
      ]
     },
     "metadata": {},
     "output_type": "display_data"
    },
    {
     "data": {
      "text/plain": [
       "<matplotlib.figure.Figure at 0x140556f0>"
      ]
     },
     "metadata": {},
     "output_type": "display_data"
    },
    {
     "data": {
      "text/plain": [
       "<matplotlib.figure.Figure at 0x140550d0>"
      ]
     },
     "metadata": {},
     "output_type": "display_data"
    },
    {
     "data": {
      "text/plain": [
       "<matplotlib.figure.Figure at 0x16a36310>"
      ]
     },
     "metadata": {},
     "output_type": "display_data"
    },
    {
     "data": {
      "text/plain": [
       "<matplotlib.figure.Figure at 0x1696caf0>"
      ]
     },
     "metadata": {},
     "output_type": "display_data"
    },
    {
     "data": {
      "text/plain": [
       "<matplotlib.figure.Figure at 0x140044d0>"
      ]
     },
     "metadata": {},
     "output_type": "display_data"
    },
    {
     "data": {
      "text/plain": [
       "<matplotlib.figure.Figure at 0x140041b0>"
      ]
     },
     "metadata": {},
     "output_type": "display_data"
    },
    {
     "data": {
      "text/plain": [
       "<matplotlib.figure.Figure at 0x23c98050>"
      ]
     },
     "metadata": {},
     "output_type": "display_data"
    },
    {
     "data": {
      "text/plain": [
       "<matplotlib.figure.Figure at 0x16de4850>"
      ]
     },
     "metadata": {},
     "output_type": "display_data"
    },
    {
     "data": {
      "text/plain": [
       "<matplotlib.figure.Figure at 0x14004410>"
      ]
     },
     "metadata": {},
     "output_type": "display_data"
    },
    {
     "data": {
      "text/plain": [
       "<matplotlib.figure.Figure at 0x23c98e30>"
      ]
     },
     "metadata": {},
     "output_type": "display_data"
    },
    {
     "data": {
      "text/plain": [
       "<matplotlib.figure.Figure at 0x16a36170>"
      ]
     },
     "metadata": {},
     "output_type": "display_data"
    },
    {
     "data": {
      "text/plain": [
       "<matplotlib.figure.Figure at 0x16de4750>"
      ]
     },
     "metadata": {},
     "output_type": "display_data"
    },
    {
     "data": {
      "text/plain": [
       "<matplotlib.figure.Figure at 0x16de4cd0>"
      ]
     },
     "metadata": {},
     "output_type": "display_data"
    },
    {
     "data": {
      "text/plain": [
       "<matplotlib.figure.Figure at 0x7c572d0>"
      ]
     },
     "metadata": {},
     "output_type": "display_data"
    },
    {
     "data": {
      "text/plain": [
       "<matplotlib.figure.Figure at 0x6c372510>"
      ]
     },
     "metadata": {},
     "output_type": "display_data"
    },
    {
     "data": {
      "text/plain": [
       "<matplotlib.figure.Figure at 0x6c372af0>"
      ]
     },
     "metadata": {},
     "output_type": "display_data"
    },
    {
     "data": {
      "text/plain": [
       "<matplotlib.figure.Figure at 0x145c1b50>"
      ]
     },
     "metadata": {},
     "output_type": "display_data"
    },
    {
     "data": {
      "text/plain": [
       "<matplotlib.figure.Figure at 0x145c1090>"
      ]
     },
     "metadata": {},
     "output_type": "display_data"
    },
    {
     "data": {
      "text/plain": [
       "<matplotlib.figure.Figure at 0x1403f910>"
      ]
     },
     "metadata": {},
     "output_type": "display_data"
    },
    {
     "data": {
      "text/plain": [
       "<matplotlib.figure.Figure at 0x16971590>"
      ]
     },
     "metadata": {},
     "output_type": "display_data"
    },
    {
     "data": {
      "text/plain": [
       "<matplotlib.figure.Figure at 0x145c14d0>"
      ]
     },
     "metadata": {},
     "output_type": "display_data"
    },
    {
     "data": {
      "text/plain": [
       "<matplotlib.figure.Figure at 0x145c1230>"
      ]
     },
     "metadata": {},
     "output_type": "display_data"
    },
    {
     "data": {
      "text/plain": [
       "<matplotlib.figure.Figure at 0x2b8777b0>"
      ]
     },
     "metadata": {},
     "output_type": "display_data"
    },
    {
     "data": {
      "text/plain": [
       "<matplotlib.figure.Figure at 0x2b877950>"
      ]
     },
     "metadata": {},
     "output_type": "display_data"
    },
    {
     "data": {
      "text/plain": [
       "<matplotlib.figure.Figure at 0x141825d0>"
      ]
     },
     "metadata": {},
     "output_type": "display_data"
    },
    {
     "data": {
      "text/plain": [
       "<matplotlib.figure.Figure at 0x14182c90>"
      ]
     },
     "metadata": {},
     "output_type": "display_data"
    },
    {
     "data": {
      "text/plain": [
       "<matplotlib.figure.Figure at 0x6bec5a30>"
      ]
     },
     "metadata": {},
     "output_type": "display_data"
    },
    {
     "data": {
      "text/plain": [
       "<matplotlib.figure.Figure at 0x2b877af0>"
      ]
     },
     "metadata": {},
     "output_type": "display_data"
    },
    {
     "data": {
      "text/plain": [
       "<matplotlib.figure.Figure at 0x1403c670>"
      ]
     },
     "metadata": {},
     "output_type": "display_data"
    },
    {
     "data": {
      "text/plain": [
       "<matplotlib.figure.Figure at 0x1418aa90>"
      ]
     },
     "metadata": {},
     "output_type": "display_data"
    },
    {
     "data": {
      "text/plain": [
       "<matplotlib.figure.Figure at 0x23c9f990>"
      ]
     },
     "metadata": {},
     "output_type": "display_data"
    },
    {
     "data": {
      "text/plain": [
       "<matplotlib.figure.Figure at 0x1418a5d0>"
      ]
     },
     "metadata": {},
     "output_type": "display_data"
    },
    {
     "data": {
      "text/plain": [
       "<matplotlib.figure.Figure at 0x13edf3b0>"
      ]
     },
     "metadata": {},
     "output_type": "display_data"
    },
    {
     "data": {
      "text/plain": [
       "<matplotlib.figure.Figure at 0x1418af70>"
      ]
     },
     "metadata": {},
     "output_type": "display_data"
    },
    {
     "data": {
      "text/plain": [
       "<matplotlib.figure.Figure at 0x175c28d0>"
      ]
     },
     "metadata": {},
     "output_type": "display_data"
    },
    {
     "data": {
      "text/plain": [
       "<matplotlib.figure.Figure at 0x175c2790>"
      ]
     },
     "metadata": {},
     "output_type": "display_data"
    },
    {
     "data": {
      "text/plain": [
       "<matplotlib.figure.Figure at 0x2b8686d0>"
      ]
     },
     "metadata": {},
     "output_type": "display_data"
    },
    {
     "data": {
      "text/plain": [
       "<matplotlib.figure.Figure at 0x2b8685b0>"
      ]
     },
     "metadata": {},
     "output_type": "display_data"
    },
    {
     "data": {
      "text/plain": [
       "<matplotlib.figure.Figure at 0x144245f0>"
      ]
     },
     "metadata": {},
     "output_type": "display_data"
    },
    {
     "data": {
      "text/plain": [
       "<matplotlib.figure.Figure at 0x14424e50>"
      ]
     },
     "metadata": {},
     "output_type": "display_data"
    },
    {
     "data": {
      "text/plain": [
       "<matplotlib.figure.Figure at 0x2b868cd0>"
      ]
     },
     "metadata": {},
     "output_type": "display_data"
    },
    {
     "data": {
      "text/plain": [
       "<matplotlib.figure.Figure at 0x2b8684b0>"
      ]
     },
     "metadata": {},
     "output_type": "display_data"
    },
    {
     "data": {
      "text/plain": [
       "<matplotlib.figure.Figure at 0x2b864ed0>"
      ]
     },
     "metadata": {},
     "output_type": "display_data"
    },
    {
     "data": {
      "text/plain": [
       "<matplotlib.figure.Figure at 0x2b864710>"
      ]
     },
     "metadata": {},
     "output_type": "display_data"
    },
    {
     "data": {
      "text/plain": [
       "<matplotlib.figure.Figure at 0x2b868d90>"
      ]
     },
     "metadata": {},
     "output_type": "display_data"
    },
    {
     "data": {
      "text/plain": [
       "<matplotlib.figure.Figure at 0x2b8683f0>"
      ]
     },
     "metadata": {},
     "output_type": "display_data"
    },
    {
     "data": {
      "text/plain": [
       "<matplotlib.figure.Figure at 0x6c0f2710>"
      ]
     },
     "metadata": {},
     "output_type": "display_data"
    },
    {
     "data": {
      "text/plain": [
       "<matplotlib.figure.Figure at 0x2c382b30>"
      ]
     },
     "metadata": {},
     "output_type": "display_data"
    },
    {
     "data": {
      "text/plain": [
       "<matplotlib.figure.Figure at 0x2c382450>"
      ]
     },
     "metadata": {},
     "output_type": "display_data"
    },
    {
     "data": {
      "text/plain": [
       "<matplotlib.figure.Figure at 0x175c20b0>"
      ]
     },
     "metadata": {},
     "output_type": "display_data"
    },
    {
     "data": {
      "text/plain": [
       "<matplotlib.figure.Figure at 0x14424270>"
      ]
     },
     "metadata": {},
     "output_type": "display_data"
    },
    {
     "data": {
      "text/plain": [
       "<matplotlib.figure.Figure at 0x14434af0>"
      ]
     },
     "metadata": {},
     "output_type": "display_data"
    },
    {
     "data": {
      "text/plain": [
       "<matplotlib.figure.Figure at 0x6c372450>"
      ]
     },
     "metadata": {},
     "output_type": "display_data"
    },
    {
     "data": {
      "text/plain": [
       "<matplotlib.figure.Figure at 0x6c0f2750>"
      ]
     },
     "metadata": {},
     "output_type": "display_data"
    },
    {
     "data": {
      "text/plain": [
       "<matplotlib.figure.Figure at 0x6c0f2bb0>"
      ]
     },
     "metadata": {},
     "output_type": "display_data"
    },
    {
     "data": {
      "text/plain": [
       "<matplotlib.figure.Figure at 0x5aa8a70>"
      ]
     },
     "metadata": {},
     "output_type": "display_data"
    },
    {
     "data": {
      "text/plain": [
       "<matplotlib.figure.Figure at 0x175c2030>"
      ]
     },
     "metadata": {},
     "output_type": "display_data"
    },
    {
     "data": {
      "text/plain": [
       "<matplotlib.figure.Figure at 0x78379f0>"
      ]
     },
     "metadata": {},
     "output_type": "display_data"
    },
    {
     "data": {
      "text/plain": [
       "<matplotlib.figure.Figure at 0x14434810>"
      ]
     },
     "metadata": {},
     "output_type": "display_data"
    },
    {
     "data": {
      "text/plain": [
       "<matplotlib.figure.Figure at 0x140336d0>"
      ]
     },
     "metadata": {},
     "output_type": "display_data"
    },
    {
     "data": {
      "text/plain": [
       "<matplotlib.figure.Figure at 0x7d56130>"
      ]
     },
     "metadata": {},
     "output_type": "display_data"
    },
    {
     "data": {
      "text/plain": [
       "<matplotlib.figure.Figure at 0x16947e30>"
      ]
     },
     "metadata": {},
     "output_type": "display_data"
    },
    {
     "data": {
      "text/plain": [
       "<matplotlib.figure.Figure at 0x16947f50>"
      ]
     },
     "metadata": {},
     "output_type": "display_data"
    },
    {
     "data": {
      "text/plain": [
       "<matplotlib.figure.Figure at 0x7c24d50>"
      ]
     },
     "metadata": {},
     "output_type": "display_data"
    },
    {
     "data": {
      "text/plain": [
       "<matplotlib.figure.Figure at 0x6bec9910>"
      ]
     },
     "metadata": {},
     "output_type": "display_data"
    },
    {
     "data": {
      "text/plain": [
       "<matplotlib.figure.Figure at 0x169835f0>"
      ]
     },
     "metadata": {},
     "output_type": "display_data"
    },
    {
     "data": {
      "text/plain": [
       "<matplotlib.figure.Figure at 0x16983df0>"
      ]
     },
     "metadata": {},
     "output_type": "display_data"
    },
    {
     "data": {
      "text/plain": [
       "<matplotlib.figure.Figure at 0x7c242f0>"
      ]
     },
     "metadata": {},
     "output_type": "display_data"
    },
    {
     "data": {
      "text/plain": [
       "<matplotlib.figure.Figure at 0x7c24ff0>"
      ]
     },
     "metadata": {},
     "output_type": "display_data"
    },
    {
     "data": {
      "text/plain": [
       "<matplotlib.figure.Figure at 0x13ed4b90>"
      ]
     },
     "metadata": {},
     "output_type": "display_data"
    },
    {
     "data": {
      "text/plain": [
       "<matplotlib.figure.Figure at 0x2c5d7410>"
      ]
     },
     "metadata": {},
     "output_type": "display_data"
    },
    {
     "data": {
      "text/plain": [
       "<matplotlib.figure.Figure at 0x6c38fd90>"
      ]
     },
     "metadata": {},
     "output_type": "display_data"
    },
    {
     "data": {
      "text/plain": [
       "<matplotlib.figure.Figure at 0x2c5d72d0>"
      ]
     },
     "metadata": {},
     "output_type": "display_data"
    },
    {
     "data": {
      "text/plain": [
       "<matplotlib.figure.Figure at 0x13edfd70>"
      ]
     },
     "metadata": {},
     "output_type": "display_data"
    },
    {
     "data": {
      "text/plain": [
       "<matplotlib.figure.Figure at 0x6c38fb90>"
      ]
     },
     "metadata": {},
     "output_type": "display_data"
    },
    {
     "data": {
      "text/plain": [
       "<matplotlib.figure.Figure at 0x7d567d0>"
      ]
     },
     "metadata": {},
     "output_type": "display_data"
    }
   ],
   "source": [
    "import json\n",
    "from datetime import datetime, timedelta\n",
    "import pandas as pd\n",
    "import numpy as np\n",
    "import matplotlib.pylab as plt\n",
    "%matplotlib inline\n",
    "from matplotlib.pylab import rcParams\n",
    "rcParams['figure.figsize'] = 15, 6\n",
    "import matplotlib.backends.backend_pdf\n",
    "\n",
    "min = 2\n",
    "use_pdf = True\n",
    "debug = False\n",
    "trend_multiple = 3\n",
    "\n",
    "def normalize(df):\n",
    "    # 180/2 = 90\n",
    "    return (df+1) / (df + 1).rolling(90).mean()\n",
    "\n",
    "#Emphasize large spikes\n",
    "def emphasize(df):\n",
    "    #rolling 2\n",
    "    alpha = 1.2\n",
    "    em = lambda x: ( np.abs(x[0] - x[1])**alpha )\n",
    "    df1 = df.rolling(2).apply(em)\n",
    "    return df1\n",
    "\n",
    "def smooth(df):\n",
    "    # 10 min rolling\n",
    "    r = 5\n",
    "    return df.rolling(r).sum()\n",
    "\n",
    "def detect_valid_trend(df, df_raw):\n",
    "    threshold = 2\n",
    "    df1 =  ( (df / df.shift().rolling(90).mean() ) > trend_multiple )*1\n",
    "    no_consec = lambda x: ( 0 if sum(x) > 1 else sum(x))\n",
    "    df_trend = df1\n",
    "    #df_trend = df1.rolling(90).apply(no_consec)\n",
    "    df_valid = ( (df_raw.shift().rolling(90).sum() > 200) & (df_raw.shift().rolling(90).mean() > threshold)  )*1\n",
    "    df_trend = df_trend * df_valid\n",
    "    return df_valid, df_trend\n",
    "    \n",
    "    \n",
    "    \n",
    "\n",
    "def main2(d, pdf):\n",
    "    cluster_id = '#' + d[0]\n",
    "    print(cluster_id)\n",
    "    words = d[1]\n",
    "    timestamp_list = [ datetime.strptime(x, \"%Y%m%d-%H%M%S\") for x in d[2] ]\n",
    "    freq = str(min) + 'min'\n",
    "    # 148 days, from/includinig sep25, to/not including feb 20\n",
    "    rng = pd.date_range('25/09/2017', periods=148*24*60/min, freq=freq)\n",
    "    df = pd.DataFrame(index=rng)\n",
    "    kw = {cluster_id:pd.Series(np.zeros(len(rng)),dtype=np.int, index=rng)}\n",
    "    df = df.assign(**kw)\n",
    "    \n",
    "    i = 0\n",
    "    for ts in timestamp_list:\n",
    "        while rng[i] < ts:\n",
    "            i += 1\n",
    "        i -= 1\n",
    "        df.at[rng[i],cluster_id] += 1\n",
    "        \n",
    "    \n",
    "    # A4 size\n",
    "    fig = None\n",
    "    if use_pdf:\n",
    "        fig = plt.figure(figsize=(8.27,11.69))\n",
    "    \n",
    "    df0 = df\n",
    "    df1 = normalize(df0)\n",
    "    df2 = emphasize(df1)\n",
    "    df3 = smooth(df2)\n",
    "    df_valid, df_trend = detect_valid_trend(df3, df0)\n",
    "    df_nonTrend = df_valid\n",
    "    tag_name = cluster_id\n",
    "    \n",
    "    num_output = 0\n",
    "    for i in range(90, len(rng)-90):\n",
    "        # trend first\n",
    "        #if sum(df_valid[ht_name].tolist()[i-90:i-1]) == 0 and df_valid.at[rng[i],ht_name]:\n",
    "        if df_valid.at[rng[i],cluster_id]:\n",
    "            isTrend = 0 \n",
    "            if df_trend.at[rng[i],cluster_id] == 1 and sum(df_trend[cluster_id].tolist()[i-90:i-1]) == 0:\n",
    "                isTrend = 1\n",
    "                for j in range(i+1,i+90):\n",
    "                    df_trend.at[rng[j],cluster_id] = 0\n",
    "                    df_valid.at[rng[j],cluster_id] = 0\n",
    "            elif df_nonTrend.at[rng[i],cluster_id] == 1 and sum(df_nonTrend[cluster_id].tolist()[i-90:i-1]) == 0:\n",
    "                isTrend = 0\n",
    "                for j in range(i+1,i+90):\n",
    "                    df_nonTrend.at[rng[j],cluster_id] = 0\n",
    "                    df_valid.at[rng[j],cluster_id] = 0\n",
    "            else:\n",
    "                continue\n",
    "                \n",
    "            num_output += 1\n",
    "                \n",
    "            #df0 = df[start_dt:start_dt+timedelta(minutes=180)]\n",
    "            df_raw = df0[rng[i-90]:rng[i]]\n",
    "            df_nor = df1[rng[i-90]:rng[i]]\n",
    "            df_em = df2[rng[i-90]:rng[i]]\n",
    "            df_s = df3[rng[i-90]:rng[i]]\n",
    "            \n",
    "            o_list = {\n",
    "                        'cluster_id':cluster_id,\n",
    "                        'cluster_words':words,\n",
    "                        'ts_start':rng[i-90].strftime(\"%Y%m%d-%H%M%S\"),\n",
    "                        'isTrend':isTrend,\n",
    "                        'ts_full':[x.strftime(\"%Y%m%d-%H%M%S\") for x in rng[i-90:i] ],\n",
    "                        'df_raw':df_raw[cluster_id].tolist(),\n",
    "                        'df_nor':df_nor[cluster_id].tolist(),\n",
    "                        'df_em':df_em[cluster_id].tolist(),\n",
    "                        'df_smoothed':df_s[cluster_id].tolist() ,\n",
    "            }\n",
    "\n",
    "            with open('clusterfyp_withpca_optimised_raw_plus_preprocessed_multiple_'+str(trend_multiple),'a') as outF:\n",
    "                outF.write(json.dumps(o_list) + '\\n')\n",
    "\n",
    "\n",
    "            if use_pdf:\n",
    "                df_l = [df_raw,df_nor,df_em,df_s]\n",
    "                subtitle = [ tag_name + '_1.raw',\n",
    "                             tag_name + '_2.normalize',\n",
    "                             tag_name + '_3.emphasize_1.2',\n",
    "                             tag_name + '_4.smooth_isTrend_' + str(isTrend)\n",
    "                           ]\n",
    "                color = ['blue', 'green', 'grey', 'orange']\n",
    "                for i in range(0,4):\n",
    "                    ax1 = fig.add_subplot(4,1,i+1)\n",
    "                    ax1.plot(df_l[i], color=color[i])\n",
    "                    ax1.set_title(subtitle[i])\n",
    "                    fig.tight_layout()\n",
    "\n",
    "            if use_pdf:\n",
    "                pdf.savefig(fig)\n",
    "                plt.clf()\n",
    "\n",
    "    \n",
    "    return num_output\n",
    "\n",
    "        \n",
    "        \n",
    "\n",
    "                   \n",
    "def main():\n",
    "    \n",
    "    pdf = None\n",
    "    if use_pdf:\n",
    "        pdf = matplotlib.backends.backend_pdf.PdfPages('output.pdf') \n",
    "                \n",
    "    with open('clusterfyp_withpca_optimised_ts_list_new.txt') as f:\n",
    "        for line in f:\n",
    "            d = json.loads(line)\n",
    "            '''if d[0] != 'football':\n",
    "                continue'''\n",
    "            num_output = main2(d, pdf)\n",
    "            if num_output == 0:\n",
    "                continue\n",
    "            if debug:\n",
    "                break\n",
    "            \n",
    "    if use_pdf:\n",
    "        pdf.close()\n",
    "            \n",
    "    \n",
    "if __name__ == '__main__':\n",
    "    main()\n",
    "    "
   ]
  }
 ],
 "metadata": {
  "kernelspec": {
   "display_name": "Python 3",
   "language": "python",
   "name": "python3"
  },
  "language_info": {
   "codemirror_mode": {
    "name": "ipython",
    "version": 3
   },
   "file_extension": ".py",
   "mimetype": "text/x-python",
   "name": "python",
   "nbconvert_exporter": "python",
   "pygments_lexer": "ipython3",
   "version": "3.6.4"
  }
 },
 "nbformat": 4,
 "nbformat_minor": 2
}
